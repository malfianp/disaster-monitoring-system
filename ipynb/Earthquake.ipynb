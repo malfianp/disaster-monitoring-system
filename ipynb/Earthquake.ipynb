{
 "cells": [
  {
   "cell_type": "markdown",
   "id": "22a0cd79-f31c-4e54-b6a0-3393a3405659",
   "metadata": {},
   "source": [
    "# KLASIFIKASI GEMPA"
   ]
  },
  {
   "cell_type": "markdown",
   "id": "aa402fc0-0f50-42ad-8ae4-3940f777a3d4",
   "metadata": {},
   "source": [
    "---"
   ]
  },
  {
   "cell_type": "markdown",
   "id": "7de17dc2-4f70-412b-9305-418573a21eb2",
   "metadata": {},
   "source": [
    "# 1. MODEL KLASIFIKASI GEMPA"
   ]
  },
  {
   "cell_type": "code",
   "execution_count": 1,
   "id": "084439d7-ec88-45b1-88da-36c0b0f1cc76",
   "metadata": {},
   "outputs": [],
   "source": [
    "# import libraries\n",
    "import pandas as pd\n",
    "import numpy as np\n",
    "import seaborn as sns\n",
    "import matplotlib.pyplot as plt\n",
    "from scipy import stats\n",
    "from sklearn.preprocessing import MinMaxScaler\n",
    "from sklearn.model_selection import train_test_split\n",
    "import os\n",
    "import tensorflow as tf\n",
    "from tensorflow.keras.models import Sequential\n",
    "from tensorflow.keras.layers import Dense, GRU\n",
    "from tensorflow.keras.optimizers import Adam\n",
    "from tensorflow.keras.callbacks import EarlyStopping\n",
    "from sklearn.metrics import mean_absolute_error, mean_squared_error\n",
    "import warnings"
   ]
  },
  {
   "cell_type": "code",
   "execution_count": 2,
   "id": "94ec8c01-cbec-4849-bf7f-f05b3611b021",
   "metadata": {},
   "outputs": [],
   "source": [
    "# setting\n",
    "# display max columns\n",
    "pd.set_option('display.max_columns', None)\n",
    "\n",
    "# ignore warnings\n",
    "warnings.filterwarnings('ignore')"
   ]
  },
  {
   "cell_type": "markdown",
   "id": "3b9d9f7a-f409-485d-a455-8d200decd5cb",
   "metadata": {},
   "source": [
    "## - DATA UNDERSTANDING"
   ]
  },
  {
   "cell_type": "code",
   "execution_count": 3,
   "id": "e76a8928-ff9c-4cca-a32e-294434eab6f9",
   "metadata": {},
   "outputs": [],
   "source": [
    " # read dataset\n",
    "df_raw = pd.read_csv('dataset/data_gempa_raw.csv')"
   ]
  },
  {
   "cell_type": "code",
   "execution_count": 4,
   "id": "187f1ef3-9068-4897-b8da-abc6eb1dbf6c",
   "metadata": {},
   "outputs": [
    {
     "data": {
      "text/html": [
       "<div>\n",
       "<style scoped>\n",
       "    .dataframe tbody tr th:only-of-type {\n",
       "        vertical-align: middle;\n",
       "    }\n",
       "\n",
       "    .dataframe tbody tr th {\n",
       "        vertical-align: top;\n",
       "    }\n",
       "\n",
       "    .dataframe thead th {\n",
       "        text-align: right;\n",
       "    }\n",
       "</style>\n",
       "<table border=\"1\" class=\"dataframe\">\n",
       "  <thead>\n",
       "    <tr style=\"text-align: right;\">\n",
       "      <th></th>\n",
       "      <th>aX</th>\n",
       "      <th>aY</th>\n",
       "      <th>aZ</th>\n",
       "      <th>gX</th>\n",
       "      <th>gY</th>\n",
       "      <th>gMZ</th>\n",
       "      <th>Result</th>\n",
       "    </tr>\n",
       "  </thead>\n",
       "  <tbody>\n",
       "    <tr>\n",
       "      <th>0</th>\n",
       "      <td>-2176</td>\n",
       "      <td>996</td>\n",
       "      <td>-16868</td>\n",
       "      <td>-5168</td>\n",
       "      <td>3575</td>\n",
       "      <td>-2882</td>\n",
       "      <td>1</td>\n",
       "    </tr>\n",
       "    <tr>\n",
       "      <th>1</th>\n",
       "      <td>-2176</td>\n",
       "      <td>996</td>\n",
       "      <td>-16868</td>\n",
       "      <td>-5168</td>\n",
       "      <td>3575</td>\n",
       "      <td>-2882</td>\n",
       "      <td>1</td>\n",
       "    </tr>\n",
       "    <tr>\n",
       "      <th>2</th>\n",
       "      <td>-6564</td>\n",
       "      <td>-1340</td>\n",
       "      <td>-13532</td>\n",
       "      <td>-5136</td>\n",
       "      <td>-8924</td>\n",
       "      <td>3258</td>\n",
       "      <td>1</td>\n",
       "    </tr>\n",
       "    <tr>\n",
       "      <th>3</th>\n",
       "      <td>-8</td>\n",
       "      <td>2316</td>\n",
       "      <td>-23504</td>\n",
       "      <td>-5168</td>\n",
       "      <td>5999</td>\n",
       "      <td>11</td>\n",
       "      <td>1</td>\n",
       "    </tr>\n",
       "    <tr>\n",
       "      <th>4</th>\n",
       "      <td>17064</td>\n",
       "      <td>-5608</td>\n",
       "      <td>10432</td>\n",
       "      <td>-5152</td>\n",
       "      <td>-4301</td>\n",
       "      <td>1899</td>\n",
       "      <td>1</td>\n",
       "    </tr>\n",
       "    <tr>\n",
       "      <th>...</th>\n",
       "      <td>...</td>\n",
       "      <td>...</td>\n",
       "      <td>...</td>\n",
       "      <td>...</td>\n",
       "      <td>...</td>\n",
       "      <td>...</td>\n",
       "      <td>...</td>\n",
       "    </tr>\n",
       "    <tr>\n",
       "      <th>59271</th>\n",
       "      <td>-616</td>\n",
       "      <td>-1468</td>\n",
       "      <td>-17128</td>\n",
       "      <td>-3536</td>\n",
       "      <td>91</td>\n",
       "      <td>279</td>\n",
       "      <td>0</td>\n",
       "    </tr>\n",
       "    <tr>\n",
       "      <th>59272</th>\n",
       "      <td>-640</td>\n",
       "      <td>-1448</td>\n",
       "      <td>-17228</td>\n",
       "      <td>-3552</td>\n",
       "      <td>67</td>\n",
       "      <td>269</td>\n",
       "      <td>0</td>\n",
       "    </tr>\n",
       "    <tr>\n",
       "      <th>59273</th>\n",
       "      <td>-620</td>\n",
       "      <td>-1508</td>\n",
       "      <td>-17080</td>\n",
       "      <td>-3568</td>\n",
       "      <td>49</td>\n",
       "      <td>327</td>\n",
       "      <td>0</td>\n",
       "    </tr>\n",
       "    <tr>\n",
       "      <th>59274</th>\n",
       "      <td>-596</td>\n",
       "      <td>-1460</td>\n",
       "      <td>-17220</td>\n",
       "      <td>-3584</td>\n",
       "      <td>52</td>\n",
       "      <td>227</td>\n",
       "      <td>0</td>\n",
       "    </tr>\n",
       "    <tr>\n",
       "      <th>59275</th>\n",
       "      <td>-596</td>\n",
       "      <td>-1384</td>\n",
       "      <td>-17192</td>\n",
       "      <td>-3536</td>\n",
       "      <td>84</td>\n",
       "      <td>250</td>\n",
       "      <td>0</td>\n",
       "    </tr>\n",
       "  </tbody>\n",
       "</table>\n",
       "<p>59276 rows × 7 columns</p>\n",
       "</div>"
      ],
      "text/plain": [
       "          aX    aY     aZ    gX    gY   gMZ  Result\n",
       "0      -2176   996 -16868 -5168  3575 -2882       1\n",
       "1      -2176   996 -16868 -5168  3575 -2882       1\n",
       "2      -6564 -1340 -13532 -5136 -8924  3258       1\n",
       "3         -8  2316 -23504 -5168  5999    11       1\n",
       "4      17064 -5608  10432 -5152 -4301  1899       1\n",
       "...      ...   ...    ...   ...   ...   ...     ...\n",
       "59271   -616 -1468 -17128 -3536    91   279       0\n",
       "59272   -640 -1448 -17228 -3552    67   269       0\n",
       "59273   -620 -1508 -17080 -3568    49   327       0\n",
       "59274   -596 -1460 -17220 -3584    52   227       0\n",
       "59275   -596 -1384 -17192 -3536    84   250       0\n",
       "\n",
       "[59276 rows x 7 columns]"
      ]
     },
     "execution_count": 4,
     "metadata": {},
     "output_type": "execute_result"
    }
   ],
   "source": [
    "df_raw"
   ]
  },
  {
   "cell_type": "code",
   "execution_count": 5,
   "id": "77e349cf-10b9-4048-8744-927adef4eee2",
   "metadata": {},
   "outputs": [
    {
     "name": "stdout",
     "output_type": "stream",
     "text": [
      "<class 'pandas.core.frame.DataFrame'>\n",
      "RangeIndex: 59276 entries, 0 to 59275\n",
      "Data columns (total 7 columns):\n",
      " #   Column  Non-Null Count  Dtype\n",
      "---  ------  --------------  -----\n",
      " 0   aX      59276 non-null  int64\n",
      " 1   aY      59276 non-null  int64\n",
      " 2   aZ      59276 non-null  int64\n",
      " 3   gX      59276 non-null  int64\n",
      " 4   gY      59276 non-null  int64\n",
      " 5   gMZ     59276 non-null  int64\n",
      " 6   Result  59276 non-null  int64\n",
      "dtypes: int64(7)\n",
      "memory usage: 3.2 MB\n"
     ]
    }
   ],
   "source": [
    "df_raw.info()"
   ]
  },
  {
   "cell_type": "code",
   "execution_count": 6,
   "id": "6d30bbbb-7f12-4912-a115-94fa7e0120cf",
   "metadata": {},
   "outputs": [
    {
     "data": {
      "text/html": [
       "<div>\n",
       "<style scoped>\n",
       "    .dataframe tbody tr th:only-of-type {\n",
       "        vertical-align: middle;\n",
       "    }\n",
       "\n",
       "    .dataframe tbody tr th {\n",
       "        vertical-align: top;\n",
       "    }\n",
       "\n",
       "    .dataframe thead th {\n",
       "        text-align: right;\n",
       "    }\n",
       "</style>\n",
       "<table border=\"1\" class=\"dataframe\">\n",
       "  <thead>\n",
       "    <tr style=\"text-align: right;\">\n",
       "      <th></th>\n",
       "      <th>count</th>\n",
       "      <th>mean</th>\n",
       "      <th>std</th>\n",
       "      <th>min</th>\n",
       "      <th>25%</th>\n",
       "      <th>50%</th>\n",
       "      <th>75%</th>\n",
       "      <th>max</th>\n",
       "    </tr>\n",
       "  </thead>\n",
       "  <tbody>\n",
       "    <tr>\n",
       "      <th>aX</th>\n",
       "      <td>59276.0</td>\n",
       "      <td>95.636126</td>\n",
       "      <td>9595.021351</td>\n",
       "      <td>-32768.0</td>\n",
       "      <td>-1180.0</td>\n",
       "      <td>-656.0</td>\n",
       "      <td>1500.0</td>\n",
       "      <td>32767.0</td>\n",
       "    </tr>\n",
       "    <tr>\n",
       "      <th>aY</th>\n",
       "      <td>59276.0</td>\n",
       "      <td>-1165.866168</td>\n",
       "      <td>5704.585744</td>\n",
       "      <td>-32768.0</td>\n",
       "      <td>-1520.0</td>\n",
       "      <td>-1372.0</td>\n",
       "      <td>-756.0</td>\n",
       "      <td>32767.0</td>\n",
       "    </tr>\n",
       "    <tr>\n",
       "      <th>aZ</th>\n",
       "      <td>59276.0</td>\n",
       "      <td>-14675.366033</td>\n",
       "      <td>14835.340037</td>\n",
       "      <td>-32768.0</td>\n",
       "      <td>-17852.0</td>\n",
       "      <td>-17200.0</td>\n",
       "      <td>-16312.0</td>\n",
       "      <td>32767.0</td>\n",
       "    </tr>\n",
       "    <tr>\n",
       "      <th>gX</th>\n",
       "      <td>59276.0</td>\n",
       "      <td>-3510.458786</td>\n",
       "      <td>399.606856</td>\n",
       "      <td>-5200.0</td>\n",
       "      <td>-3760.0</td>\n",
       "      <td>-3488.0</td>\n",
       "      <td>-3328.0</td>\n",
       "      <td>-1.0</td>\n",
       "    </tr>\n",
       "    <tr>\n",
       "      <th>gY</th>\n",
       "      <td>59276.0</td>\n",
       "      <td>34.997588</td>\n",
       "      <td>4192.662583</td>\n",
       "      <td>-32768.0</td>\n",
       "      <td>-82.0</td>\n",
       "      <td>61.0</td>\n",
       "      <td>102.0</td>\n",
       "      <td>32767.0</td>\n",
       "    </tr>\n",
       "    <tr>\n",
       "      <th>gMZ</th>\n",
       "      <td>59276.0</td>\n",
       "      <td>311.795617</td>\n",
       "      <td>4514.127802</td>\n",
       "      <td>-32768.0</td>\n",
       "      <td>220.0</td>\n",
       "      <td>269.0</td>\n",
       "      <td>376.0</td>\n",
       "      <td>32767.0</td>\n",
       "    </tr>\n",
       "    <tr>\n",
       "      <th>Result</th>\n",
       "      <td>59276.0</td>\n",
       "      <td>0.516195</td>\n",
       "      <td>0.499742</td>\n",
       "      <td>0.0</td>\n",
       "      <td>0.0</td>\n",
       "      <td>1.0</td>\n",
       "      <td>1.0</td>\n",
       "      <td>1.0</td>\n",
       "    </tr>\n",
       "  </tbody>\n",
       "</table>\n",
       "</div>"
      ],
      "text/plain": [
       "          count          mean           std      min      25%      50%  \\\n",
       "aX      59276.0     95.636126   9595.021351 -32768.0  -1180.0   -656.0   \n",
       "aY      59276.0  -1165.866168   5704.585744 -32768.0  -1520.0  -1372.0   \n",
       "aZ      59276.0 -14675.366033  14835.340037 -32768.0 -17852.0 -17200.0   \n",
       "gX      59276.0  -3510.458786    399.606856  -5200.0  -3760.0  -3488.0   \n",
       "gY      59276.0     34.997588   4192.662583 -32768.0    -82.0     61.0   \n",
       "gMZ     59276.0    311.795617   4514.127802 -32768.0    220.0    269.0   \n",
       "Result  59276.0      0.516195      0.499742      0.0      0.0      1.0   \n",
       "\n",
       "            75%      max  \n",
       "aX       1500.0  32767.0  \n",
       "aY       -756.0  32767.0  \n",
       "aZ     -16312.0  32767.0  \n",
       "gX      -3328.0     -1.0  \n",
       "gY        102.0  32767.0  \n",
       "gMZ       376.0  32767.0  \n",
       "Result      1.0      1.0  "
      ]
     },
     "execution_count": 6,
     "metadata": {},
     "output_type": "execute_result"
    }
   ],
   "source": [
    "df_raw.describe().T"
   ]
  },
  {
   "cell_type": "code",
   "execution_count": 7,
   "id": "cb88adef-8013-4c10-afcc-1a20e7ecd2a7",
   "metadata": {},
   "outputs": [
    {
     "data": {
      "text/plain": [
       "1    30598\n",
       "0    28678\n",
       "Name: Result, dtype: int64"
      ]
     },
     "execution_count": 7,
     "metadata": {},
     "output_type": "execute_result"
    }
   ],
   "source": [
    "df_raw['Result'].value_counts()"
   ]
  },
  {
   "cell_type": "code",
   "execution_count": 8,
   "id": "880a7d47-a2e9-49e1-91bf-bce8548a9dfe",
   "metadata": {},
   "outputs": [
    {
     "data": {
      "text/plain": [
       "1    51.619542\n",
       "0    48.380458\n",
       "Name: Result, dtype: float64"
      ]
     },
     "execution_count": 8,
     "metadata": {},
     "output_type": "execute_result"
    }
   ],
   "source": [
    "df_raw['Result'].value_counts(normalize=True)*100"
   ]
  },
  {
   "cell_type": "markdown",
   "id": "451e2b62-00cc-4f69-bc2b-68af7c9df87d",
   "metadata": {},
   "source": [
    "## - DATA PREPROCESSING 1"
   ]
  },
  {
   "cell_type": "markdown",
   "id": "363223cf-97c9-40cc-96cf-6c19a063b56e",
   "metadata": {},
   "source": [
    "Data akan dikonversi dalam satuan g untuk accelerometer, dan dalam satuan deg/s untuk gyroscope"
   ]
  },
  {
   "cell_type": "code",
   "execution_count": 9,
   "id": "8be97552-b22b-44e0-a08b-40a6f98e054e",
   "metadata": {},
   "outputs": [],
   "source": [
    "# rename column\n",
    "df_raw=df_raw.rename(columns = {'gMZ':'gZ', 'Result':'result'})\n",
    "# atur max min gY & gZ (agar sesuai skala +-250)\n",
    "df_raw['gY'] = np.where(df_raw['gY'] <= -32750, -32750, \n",
    "                        np.where(df_raw['gY'] >= 32750, 32750, \n",
    "                                 df_raw['gY']))\n",
    "df_raw['gZ'] = np.where(df_raw['gZ'] <= -32750, -32750, \n",
    "                        np.where(df_raw['gZ'] >= 32750, 32750, \n",
    "                                 df_raw['gZ']))\n",
    "# konversi\n",
    "df_raw['aX']=(df_raw['aX']/16384).round(2)\n",
    "df_raw['aY']=(df_raw['aY']/16384).round(2)\n",
    "df_raw['aZ']=(df_raw['aZ']/16384).round(2)\n",
    "df_raw['gX']=(df_raw['gX']/131).round(2)\n",
    "df_raw['gY']=(df_raw['gY']/131).round(2)\n",
    "df_raw['gZ']=(df_raw['gZ']/131).round(2)"
   ]
  },
  {
   "cell_type": "code",
   "execution_count": 10,
   "id": "c970c681-f33f-47e7-abbf-885eb21d6ff1",
   "metadata": {},
   "outputs": [
    {
     "data": {
      "text/html": [
       "<div>\n",
       "<style scoped>\n",
       "    .dataframe tbody tr th:only-of-type {\n",
       "        vertical-align: middle;\n",
       "    }\n",
       "\n",
       "    .dataframe tbody tr th {\n",
       "        vertical-align: top;\n",
       "    }\n",
       "\n",
       "    .dataframe thead th {\n",
       "        text-align: right;\n",
       "    }\n",
       "</style>\n",
       "<table border=\"1\" class=\"dataframe\">\n",
       "  <thead>\n",
       "    <tr style=\"text-align: right;\">\n",
       "      <th></th>\n",
       "      <th>aX</th>\n",
       "      <th>aY</th>\n",
       "      <th>aZ</th>\n",
       "      <th>gX</th>\n",
       "      <th>gY</th>\n",
       "      <th>gZ</th>\n",
       "      <th>result</th>\n",
       "    </tr>\n",
       "  </thead>\n",
       "  <tbody>\n",
       "    <tr>\n",
       "      <th>0</th>\n",
       "      <td>-0.13</td>\n",
       "      <td>0.06</td>\n",
       "      <td>-1.03</td>\n",
       "      <td>-39.45</td>\n",
       "      <td>27.29</td>\n",
       "      <td>-22.00</td>\n",
       "      <td>1</td>\n",
       "    </tr>\n",
       "    <tr>\n",
       "      <th>1</th>\n",
       "      <td>-0.13</td>\n",
       "      <td>0.06</td>\n",
       "      <td>-1.03</td>\n",
       "      <td>-39.45</td>\n",
       "      <td>27.29</td>\n",
       "      <td>-22.00</td>\n",
       "      <td>1</td>\n",
       "    </tr>\n",
       "    <tr>\n",
       "      <th>2</th>\n",
       "      <td>-0.40</td>\n",
       "      <td>-0.08</td>\n",
       "      <td>-0.83</td>\n",
       "      <td>-39.21</td>\n",
       "      <td>-68.12</td>\n",
       "      <td>24.87</td>\n",
       "      <td>1</td>\n",
       "    </tr>\n",
       "    <tr>\n",
       "      <th>3</th>\n",
       "      <td>-0.00</td>\n",
       "      <td>0.14</td>\n",
       "      <td>-1.43</td>\n",
       "      <td>-39.45</td>\n",
       "      <td>45.79</td>\n",
       "      <td>0.08</td>\n",
       "      <td>1</td>\n",
       "    </tr>\n",
       "    <tr>\n",
       "      <th>4</th>\n",
       "      <td>1.04</td>\n",
       "      <td>-0.34</td>\n",
       "      <td>0.64</td>\n",
       "      <td>-39.33</td>\n",
       "      <td>-32.83</td>\n",
       "      <td>14.50</td>\n",
       "      <td>1</td>\n",
       "    </tr>\n",
       "    <tr>\n",
       "      <th>...</th>\n",
       "      <td>...</td>\n",
       "      <td>...</td>\n",
       "      <td>...</td>\n",
       "      <td>...</td>\n",
       "      <td>...</td>\n",
       "      <td>...</td>\n",
       "      <td>...</td>\n",
       "    </tr>\n",
       "    <tr>\n",
       "      <th>59271</th>\n",
       "      <td>-0.04</td>\n",
       "      <td>-0.09</td>\n",
       "      <td>-1.05</td>\n",
       "      <td>-26.99</td>\n",
       "      <td>0.69</td>\n",
       "      <td>2.13</td>\n",
       "      <td>0</td>\n",
       "    </tr>\n",
       "    <tr>\n",
       "      <th>59272</th>\n",
       "      <td>-0.04</td>\n",
       "      <td>-0.09</td>\n",
       "      <td>-1.05</td>\n",
       "      <td>-27.11</td>\n",
       "      <td>0.51</td>\n",
       "      <td>2.05</td>\n",
       "      <td>0</td>\n",
       "    </tr>\n",
       "    <tr>\n",
       "      <th>59273</th>\n",
       "      <td>-0.04</td>\n",
       "      <td>-0.09</td>\n",
       "      <td>-1.04</td>\n",
       "      <td>-27.24</td>\n",
       "      <td>0.37</td>\n",
       "      <td>2.50</td>\n",
       "      <td>0</td>\n",
       "    </tr>\n",
       "    <tr>\n",
       "      <th>59274</th>\n",
       "      <td>-0.04</td>\n",
       "      <td>-0.09</td>\n",
       "      <td>-1.05</td>\n",
       "      <td>-27.36</td>\n",
       "      <td>0.40</td>\n",
       "      <td>1.73</td>\n",
       "      <td>0</td>\n",
       "    </tr>\n",
       "    <tr>\n",
       "      <th>59275</th>\n",
       "      <td>-0.04</td>\n",
       "      <td>-0.08</td>\n",
       "      <td>-1.05</td>\n",
       "      <td>-26.99</td>\n",
       "      <td>0.64</td>\n",
       "      <td>1.91</td>\n",
       "      <td>0</td>\n",
       "    </tr>\n",
       "  </tbody>\n",
       "</table>\n",
       "<p>59276 rows × 7 columns</p>\n",
       "</div>"
      ],
      "text/plain": [
       "         aX    aY    aZ     gX     gY     gZ  result\n",
       "0     -0.13  0.06 -1.03 -39.45  27.29 -22.00       1\n",
       "1     -0.13  0.06 -1.03 -39.45  27.29 -22.00       1\n",
       "2     -0.40 -0.08 -0.83 -39.21 -68.12  24.87       1\n",
       "3     -0.00  0.14 -1.43 -39.45  45.79   0.08       1\n",
       "4      1.04 -0.34  0.64 -39.33 -32.83  14.50       1\n",
       "...     ...   ...   ...    ...    ...    ...     ...\n",
       "59271 -0.04 -0.09 -1.05 -26.99   0.69   2.13       0\n",
       "59272 -0.04 -0.09 -1.05 -27.11   0.51   2.05       0\n",
       "59273 -0.04 -0.09 -1.04 -27.24   0.37   2.50       0\n",
       "59274 -0.04 -0.09 -1.05 -27.36   0.40   1.73       0\n",
       "59275 -0.04 -0.08 -1.05 -26.99   0.64   1.91       0\n",
       "\n",
       "[59276 rows x 7 columns]"
      ]
     },
     "execution_count": 10,
     "metadata": {},
     "output_type": "execute_result"
    }
   ],
   "source": [
    "df_raw"
   ]
  },
  {
   "cell_type": "code",
   "execution_count": 11,
   "id": "57e7c891-4bb3-42da-9698-e2e2f4b6a2a7",
   "metadata": {},
   "outputs": [
    {
     "data": {
      "text/html": [
       "<div>\n",
       "<style scoped>\n",
       "    .dataframe tbody tr th:only-of-type {\n",
       "        vertical-align: middle;\n",
       "    }\n",
       "\n",
       "    .dataframe tbody tr th {\n",
       "        vertical-align: top;\n",
       "    }\n",
       "\n",
       "    .dataframe thead th {\n",
       "        text-align: right;\n",
       "    }\n",
       "</style>\n",
       "<table border=\"1\" class=\"dataframe\">\n",
       "  <thead>\n",
       "    <tr style=\"text-align: right;\">\n",
       "      <th></th>\n",
       "      <th>count</th>\n",
       "      <th>mean</th>\n",
       "      <th>std</th>\n",
       "      <th>min</th>\n",
       "      <th>25%</th>\n",
       "      <th>50%</th>\n",
       "      <th>75%</th>\n",
       "      <th>max</th>\n",
       "    </tr>\n",
       "  </thead>\n",
       "  <tbody>\n",
       "    <tr>\n",
       "      <th>aX</th>\n",
       "      <td>59276.0</td>\n",
       "      <td>0.005773</td>\n",
       "      <td>0.585642</td>\n",
       "      <td>-2.00</td>\n",
       "      <td>-0.07</td>\n",
       "      <td>-0.04</td>\n",
       "      <td>0.09</td>\n",
       "      <td>2.00</td>\n",
       "    </tr>\n",
       "    <tr>\n",
       "      <th>aY</th>\n",
       "      <td>59276.0</td>\n",
       "      <td>-0.071203</td>\n",
       "      <td>0.348176</td>\n",
       "      <td>-2.00</td>\n",
       "      <td>-0.09</td>\n",
       "      <td>-0.08</td>\n",
       "      <td>-0.05</td>\n",
       "      <td>2.00</td>\n",
       "    </tr>\n",
       "    <tr>\n",
       "      <th>aZ</th>\n",
       "      <td>59276.0</td>\n",
       "      <td>-0.895702</td>\n",
       "      <td>0.905475</td>\n",
       "      <td>-2.00</td>\n",
       "      <td>-1.09</td>\n",
       "      <td>-1.05</td>\n",
       "      <td>-1.00</td>\n",
       "      <td>2.00</td>\n",
       "    </tr>\n",
       "    <tr>\n",
       "      <th>gX</th>\n",
       "      <td>59276.0</td>\n",
       "      <td>-26.797344</td>\n",
       "      <td>3.050506</td>\n",
       "      <td>-39.69</td>\n",
       "      <td>-28.70</td>\n",
       "      <td>-26.63</td>\n",
       "      <td>-25.40</td>\n",
       "      <td>-0.01</td>\n",
       "    </tr>\n",
       "    <tr>\n",
       "      <th>gY</th>\n",
       "      <td>59276.0</td>\n",
       "      <td>0.267220</td>\n",
       "      <td>32.003274</td>\n",
       "      <td>-250.00</td>\n",
       "      <td>-0.63</td>\n",
       "      <td>0.47</td>\n",
       "      <td>0.78</td>\n",
       "      <td>250.00</td>\n",
       "    </tr>\n",
       "    <tr>\n",
       "      <th>gZ</th>\n",
       "      <td>59276.0</td>\n",
       "      <td>2.380088</td>\n",
       "      <td>34.457991</td>\n",
       "      <td>-250.00</td>\n",
       "      <td>1.68</td>\n",
       "      <td>2.05</td>\n",
       "      <td>2.87</td>\n",
       "      <td>250.00</td>\n",
       "    </tr>\n",
       "    <tr>\n",
       "      <th>result</th>\n",
       "      <td>59276.0</td>\n",
       "      <td>0.516195</td>\n",
       "      <td>0.499742</td>\n",
       "      <td>0.00</td>\n",
       "      <td>0.00</td>\n",
       "      <td>1.00</td>\n",
       "      <td>1.00</td>\n",
       "      <td>1.00</td>\n",
       "    </tr>\n",
       "  </tbody>\n",
       "</table>\n",
       "</div>"
      ],
      "text/plain": [
       "          count       mean        std     min    25%    50%    75%     max\n",
       "aX      59276.0   0.005773   0.585642   -2.00  -0.07  -0.04   0.09    2.00\n",
       "aY      59276.0  -0.071203   0.348176   -2.00  -0.09  -0.08  -0.05    2.00\n",
       "aZ      59276.0  -0.895702   0.905475   -2.00  -1.09  -1.05  -1.00    2.00\n",
       "gX      59276.0 -26.797344   3.050506  -39.69 -28.70 -26.63 -25.40   -0.01\n",
       "gY      59276.0   0.267220  32.003274 -250.00  -0.63   0.47   0.78  250.00\n",
       "gZ      59276.0   2.380088  34.457991 -250.00   1.68   2.05   2.87  250.00\n",
       "result  59276.0   0.516195   0.499742    0.00   0.00   1.00   1.00    1.00"
      ]
     },
     "execution_count": 11,
     "metadata": {},
     "output_type": "execute_result"
    }
   ],
   "source": [
    "df_raw.describe().T"
   ]
  },
  {
   "cell_type": "code",
   "execution_count": 12,
   "id": "6241d08b-1872-4249-9eaf-10c466826dd2",
   "metadata": {},
   "outputs": [],
   "source": [
    "df=df_raw.copy()"
   ]
  },
  {
   "cell_type": "markdown",
   "id": "a36f6ceb-d4dc-4611-b672-c45e26c0c1c0",
   "metadata": {},
   "source": [
    "## - EDA"
   ]
  },
  {
   "cell_type": "code",
   "execution_count": 13,
   "id": "1bc5f35b-ea8c-4373-8b03-67810c1c5ad4",
   "metadata": {},
   "outputs": [],
   "source": [
    "def plot_eda(col='col'):\n",
    "    plt.figure(figsize=(12, 3))\n",
    "    plt.subplot(121) # row , col , index \n",
    "    sns.distplot(df[col], kde=True)                   \n",
    "    plt.legend([col], loc='upper right') \n",
    "    plt.subplot(122) \n",
    "    sns.scatterplot(y=df[col], x=df['result']) \n",
    "    plt.show()"
   ]
  },
  {
   "cell_type": "code",
   "execution_count": 14,
   "id": "406ad917-7f9f-4aec-baaa-37e8cd51241b",
   "metadata": {},
   "outputs": [
    {
     "data": {
      "image/png": "[encoded data removed]",
      "text/plain": [
       "<Figure size 1200x300 with 2 Axes>"
      ]
     },
     "metadata": {},
     "output_type": "display_data"
    },
    {
     "data": {
      "image/png": "[encoded data removed]",
      "text/plain": [
       "<Figure size 1200x300 with 2 Axes>"
      ]
     },
     "metadata": {},
     "output_type": "display_data"
    },
    {
     "data": {
      "image/png": "[encoded data removed]",
      "text/plain": [
       "<Figure size 1200x300 with 2 Axes>"
      ]
     },
     "metadata": {},
     "output_type": "display_data"
    },
    {
     "data": {
      "image/png": "[encoded data removed]",
      "text/plain": [
       "<Figure size 1200x300 with 2 Axes>"
      ]
     },
     "metadata": {},
     "output_type": "display_data"
    },
    {
     "data": {
      "image/png": "[encoded data removed]",
      "text/plain": [
       "<Figure size 1200x300 with 2 Axes>"
      ]
     },
     "metadata": {},
     "output_type": "display_data"
    },
    {
     "data": {
      "image/png": "[encoded data removed]",
      "text/plain": [
       "<Figure size 1200x300 with 2 Axes>"
      ]
     },
     "metadata": {},
     "output_type": "display_data"
    }
   ],
   "source": [
    "plot_eda('aX')\n",
    "plot_eda('aY')\n",
    "plot_eda('aZ')\n",
    "plot_eda('gX')\n",
    "plot_eda('gY')\n",
    "plot_eda('gZ')"
   ]
  },
  {
   "cell_type": "code",
   "execution_count": 113,
   "id": "33b5e27a-24f7-475d-b58c-0593a1723198",
   "metadata": {},
   "outputs": [],
   "source": [
    "df0=df[df['result']==0] # df result = 0"
   ]
  },
  {
   "cell_type": "code",
   "execution_count": 114,
   "id": "3d78bbd6-c50c-49d3-b237-e31e50d4ffd9",
   "metadata": {},
   "outputs": [
    {
     "data": {
      "text/html": [
       "<div>\n",
       "<style scoped>\n",
       "    .dataframe tbody tr th:only-of-type {\n",
       "        vertical-align: middle;\n",
       "    }\n",
       "\n",
       "    .dataframe tbody tr th {\n",
       "        vertical-align: top;\n",
       "    }\n",
       "\n",
       "    .dataframe thead th {\n",
       "        text-align: right;\n",
       "    }\n",
       "</style>\n",
       "<table border=\"1\" class=\"dataframe\">\n",
       "  <thead>\n",
       "    <tr style=\"text-align: right;\">\n",
       "      <th></th>\n",
       "      <th>count</th>\n",
       "      <th>mean</th>\n",
       "      <th>std</th>\n",
       "      <th>min</th>\n",
       "      <th>25%</th>\n",
       "      <th>50%</th>\n",
       "      <th>75%</th>\n",
       "      <th>max</th>\n",
       "    </tr>\n",
       "  </thead>\n",
       "  <tbody>\n",
       "    <tr>\n",
       "      <th>aX</th>\n",
       "      <td>28678.0</td>\n",
       "      <td>-0.049634</td>\n",
       "      <td>0.015613</td>\n",
       "      <td>-0.37</td>\n",
       "      <td>-0.07</td>\n",
       "      <td>-0.04</td>\n",
       "      <td>-0.04</td>\n",
       "      <td>0.04</td>\n",
       "    </tr>\n",
       "    <tr>\n",
       "      <th>aY</th>\n",
       "      <td>28678.0</td>\n",
       "      <td>-0.083200</td>\n",
       "      <td>0.007028</td>\n",
       "      <td>-0.18</td>\n",
       "      <td>-0.09</td>\n",
       "      <td>-0.08</td>\n",
       "      <td>-0.08</td>\n",
       "      <td>-0.05</td>\n",
       "    </tr>\n",
       "    <tr>\n",
       "      <th>aZ</th>\n",
       "      <td>28678.0</td>\n",
       "      <td>-1.049731</td>\n",
       "      <td>0.006561</td>\n",
       "      <td>-1.14</td>\n",
       "      <td>-1.05</td>\n",
       "      <td>-1.05</td>\n",
       "      <td>-1.05</td>\n",
       "      <td>-0.81</td>\n",
       "    </tr>\n",
       "    <tr>\n",
       "      <th>gX</th>\n",
       "      <td>28678.0</td>\n",
       "      <td>-24.833134</td>\n",
       "      <td>2.442941</td>\n",
       "      <td>-27.60</td>\n",
       "      <td>-26.38</td>\n",
       "      <td>-25.65</td>\n",
       "      <td>-24.55</td>\n",
       "      <td>-17.10</td>\n",
       "    </tr>\n",
       "    <tr>\n",
       "      <th>gY</th>\n",
       "      <td>28678.0</td>\n",
       "      <td>0.471666</td>\n",
       "      <td>0.132697</td>\n",
       "      <td>-4.02</td>\n",
       "      <td>0.41</td>\n",
       "      <td>0.47</td>\n",
       "      <td>0.53</td>\n",
       "      <td>13.48</td>\n",
       "    </tr>\n",
       "    <tr>\n",
       "      <th>gZ</th>\n",
       "      <td>28678.0</td>\n",
       "      <td>2.049910</td>\n",
       "      <td>0.514245</td>\n",
       "      <td>-69.53</td>\n",
       "      <td>1.96</td>\n",
       "      <td>2.05</td>\n",
       "      <td>2.15</td>\n",
       "      <td>12.40</td>\n",
       "    </tr>\n",
       "    <tr>\n",
       "      <th>result</th>\n",
       "      <td>28678.0</td>\n",
       "      <td>0.000000</td>\n",
       "      <td>0.000000</td>\n",
       "      <td>0.00</td>\n",
       "      <td>0.00</td>\n",
       "      <td>0.00</td>\n",
       "      <td>0.00</td>\n",
       "      <td>0.00</td>\n",
       "    </tr>\n",
       "  </tbody>\n",
       "</table>\n",
       "</div>"
      ],
      "text/plain": [
       "          count       mean       std    min    25%    50%    75%    max\n",
       "aX      28678.0  -0.049634  0.015613  -0.37  -0.07  -0.04  -0.04   0.04\n",
       "aY      28678.0  -0.083200  0.007028  -0.18  -0.09  -0.08  -0.08  -0.05\n",
       "aZ      28678.0  -1.049731  0.006561  -1.14  -1.05  -1.05  -1.05  -0.81\n",
       "gX      28678.0 -24.833134  2.442941 -27.60 -26.38 -25.65 -24.55 -17.10\n",
       "gY      28678.0   0.471666  0.132697  -4.02   0.41   0.47   0.53  13.48\n",
       "gZ      28678.0   2.049910  0.514245 -69.53   1.96   2.05   2.15  12.40\n",
       "result  28678.0   0.000000  0.000000   0.00   0.00   0.00   0.00   0.00"
      ]
     },
     "execution_count": 114,
     "metadata": {},
     "output_type": "execute_result"
    }
   ],
   "source": [
    "df0.describe().T"
   ]
  },
  {
   "cell_type": "markdown",
   "id": "152a8600-dbe3-4208-8add-a8b5002856c5",
   "metadata": {},
   "source": [
    "terlihat kondisi diam tidak semua fitur bernilai mendekati 0"
   ]
  },
  {
   "cell_type": "markdown",
   "id": "ee009477-c070-4dcd-9cc3-28fdbf79f6ef",
   "metadata": {},
   "source": [
    "## - DATA PREPROCESSING 2"
   ]
  },
  {
   "cell_type": "code",
   "execution_count": 15,
   "id": "3124045a-5a52-42b1-8056-9ab18b2d6674",
   "metadata": {},
   "outputs": [],
   "source": [
    "# split: data modeling | data simulasi\n",
    "df_modeling, df_simulasi = train_test_split(df, test_size=0.01, random_state=42)"
   ]
  },
  {
   "cell_type": "code",
   "execution_count": 16,
   "id": "f535d7e4-48ed-4543-9344-fcf4776edc72",
   "metadata": {},
   "outputs": [],
   "source": [
    "df_modeling = df_modeling.reset_index(drop=True)\n",
    "df_simulasi = df_simulasi.reset_index(drop=True)"
   ]
  },
  {
   "cell_type": "code",
   "execution_count": 17,
   "id": "050cfbb3-6654-4d38-a9d6-25cc74189d0e",
   "metadata": {},
   "outputs": [
    {
     "data": {
      "text/plain": [
       "((58683, 7), (593, 7))"
      ]
     },
     "execution_count": 17,
     "metadata": {},
     "output_type": "execute_result"
    }
   ],
   "source": [
    "df_modeling.shape, df_simulasi.shape"
   ]
  },
  {
   "cell_type": "code",
   "execution_count": 18,
   "id": "b353cb29-705a-48b1-a4f0-a1d3ccf6034b",
   "metadata": {},
   "outputs": [
    {
     "data": {
      "text/plain": [
       "1    51.631648\n",
       "0    48.368352\n",
       "Name: result, dtype: float64"
      ]
     },
     "execution_count": 18,
     "metadata": {},
     "output_type": "execute_result"
    }
   ],
   "source": [
    "df_modeling['result'].value_counts(normalize=True)*100"
   ]
  },
  {
   "cell_type": "code",
   "execution_count": 19,
   "id": "05658426-4a96-4bc8-9e3f-375bfc88438a",
   "metadata": {},
   "outputs": [
    {
     "data": {
      "text/plain": [
       "1    50.421585\n",
       "0    49.578415\n",
       "Name: result, dtype: float64"
      ]
     },
     "execution_count": 19,
     "metadata": {},
     "output_type": "execute_result"
    }
   ],
   "source": [
    "df_simulasi['result'].value_counts(normalize=True)*100"
   ]
  },
  {
   "cell_type": "code",
   "execution_count": 27,
   "id": "2ee0b025-715d-4eb8-b179-110cef2c07c2",
   "metadata": {},
   "outputs": [],
   "source": [
    "# # save data\n",
    "# df_modeling.to_csv('dataset/data_modeling_gempa.csv')\n",
    "# df_simulasi.to_csv('dataset/data_simulasi_gempa.csv')"
   ]
  },
  {
   "cell_type": "code",
   "execution_count": 28,
   "id": "7be0963e-8ef6-470c-b5cb-edb50226eb8a",
   "metadata": {},
   "outputs": [],
   "source": [
    " # read dataset modeling\n",
    "df_modeling = pd.read_csv('dataset/data_modeling_gempa.csv')"
   ]
  },
  {
   "cell_type": "code",
   "execution_count": 29,
   "id": "c569598e-197f-43ba-8cd5-23e15d1adc4d",
   "metadata": {},
   "outputs": [
    {
     "data": {
      "text/plain": [
       "Index(['aX', 'aY', 'aZ', 'gX', 'gY', 'gZ', 'result'], dtype='object')"
      ]
     },
     "execution_count": 29,
     "metadata": {},
     "output_type": "execute_result"
    }
   ],
   "source": [
    "df_modeling.columns"
   ]
  },
  {
   "cell_type": "code",
   "execution_count": 30,
   "id": "6aa053ba-5994-4182-a25a-9ba080b02065",
   "metadata": {},
   "outputs": [
    {
     "data": {
      "text/plain": [
       "((42251, 6), (42251, 1), (11737, 6), (11737, 1), (4695, 6), (4695, 1))"
      ]
     },
     "execution_count": 30,
     "metadata": {},
     "output_type": "execute_result"
    }
   ],
   "source": [
    "# Membagi fitur/prediktor dan label\n",
    "X = df_modeling[['aX', 'aY', 'aZ', 'gX', 'gY', 'gZ']]\n",
    "y = df_modeling[['result']]\n",
    "\n",
    "# Split dataset menjadi train, val, dan test\n",
    "X_train, X_val, y_train, y_val = train_test_split(X, y, test_size=0.2, random_state=42)\n",
    "X_train, X_test, y_train, y_test = train_test_split(X_train, y_train, test_size=0.1, random_state=42)\n",
    "\n",
    "# scaling/normalisasi data\n",
    "'''\n",
    "  fit hanya pada data train \n",
    "  agar tidak terjadi data leakage/kebocoran data\n",
    "'''\n",
    "scaler_X = MinMaxScaler().fit(X_train)\n",
    "X_train = scaler_X.transform(X_train)\n",
    "X_val = scaler_X.transform(X_val)\n",
    "X_test = scaler_X.transform(X_test)\n",
    "\n",
    "X_train.shape, y_train.shape, X_val.shape, y_val.shape, X_test.shape, y_test.shape"
   ]
  },
  {
   "cell_type": "code",
   "execution_count": 31,
   "id": "f382fc6c-9f8e-4941-82f5-c815bbe354bd",
   "metadata": {},
   "outputs": [
    {
     "data": {
      "text/plain": [
       "['scaler/scaler_X_klasifikasi_gempa.save']"
      ]
     },
     "execution_count": 31,
     "metadata": {},
     "output_type": "execute_result"
    }
   ],
   "source": [
    "import joblib\n",
    "\n",
    "joblib.dump(scaler_X, 'scaler/scaler_X_klasifikasi_gempa.save') "
   ]
  },
  {
   "cell_type": "code",
   "execution_count": 32,
   "id": "2851e161-a2db-407d-a6bf-48a010154ce9",
   "metadata": {},
   "outputs": [
    {
     "data": {
      "text/html": [
       "<div>\n",
       "<style scoped>\n",
       "    .dataframe tbody tr th:only-of-type {\n",
       "        vertical-align: middle;\n",
       "    }\n",
       "\n",
       "    .dataframe tbody tr th {\n",
       "        vertical-align: top;\n",
       "    }\n",
       "\n",
       "    .dataframe thead th {\n",
       "        text-align: right;\n",
       "    }\n",
       "</style>\n",
       "<table border=\"1\" class=\"dataframe\">\n",
       "  <thead>\n",
       "    <tr style=\"text-align: right;\">\n",
       "      <th></th>\n",
       "      <th>aX</th>\n",
       "      <th>aY</th>\n",
       "      <th>aZ</th>\n",
       "      <th>gX</th>\n",
       "      <th>gY</th>\n",
       "      <th>gZ</th>\n",
       "    </tr>\n",
       "  </thead>\n",
       "  <tbody>\n",
       "    <tr>\n",
       "      <th>0</th>\n",
       "      <td>-0.04</td>\n",
       "      <td>-0.09</td>\n",
       "      <td>-1.04</td>\n",
       "      <td>-25.28</td>\n",
       "      <td>0.56</td>\n",
       "      <td>1.93</td>\n",
       "    </tr>\n",
       "    <tr>\n",
       "      <th>1</th>\n",
       "      <td>-0.07</td>\n",
       "      <td>-0.08</td>\n",
       "      <td>-1.05</td>\n",
       "      <td>-25.16</td>\n",
       "      <td>0.47</td>\n",
       "      <td>2.13</td>\n",
       "    </tr>\n",
       "    <tr>\n",
       "      <th>2</th>\n",
       "      <td>-0.04</td>\n",
       "      <td>-0.09</td>\n",
       "      <td>-1.05</td>\n",
       "      <td>-26.63</td>\n",
       "      <td>0.45</td>\n",
       "      <td>1.88</td>\n",
       "    </tr>\n",
       "    <tr>\n",
       "      <th>3</th>\n",
       "      <td>-0.09</td>\n",
       "      <td>0.04</td>\n",
       "      <td>-0.44</td>\n",
       "      <td>-38.23</td>\n",
       "      <td>-5.46</td>\n",
       "      <td>0.95</td>\n",
       "    </tr>\n",
       "    <tr>\n",
       "      <th>4</th>\n",
       "      <td>-0.03</td>\n",
       "      <td>-0.09</td>\n",
       "      <td>-1.05</td>\n",
       "      <td>-26.75</td>\n",
       "      <td>0.49</td>\n",
       "      <td>2.21</td>\n",
       "    </tr>\n",
       "  </tbody>\n",
       "</table>\n",
       "</div>"
      ],
      "text/plain": [
       "     aX    aY    aZ     gX    gY    gZ\n",
       "0 -0.04 -0.09 -1.04 -25.28  0.56  1.93\n",
       "1 -0.07 -0.08 -1.05 -25.16  0.47  2.13\n",
       "2 -0.04 -0.09 -1.05 -26.63  0.45  1.88\n",
       "3 -0.09  0.04 -0.44 -38.23 -5.46  0.95\n",
       "4 -0.03 -0.09 -1.05 -26.75  0.49  2.21"
      ]
     },
     "execution_count": 32,
     "metadata": {},
     "output_type": "execute_result"
    }
   ],
   "source": [
    "X.head()"
   ]
  },
  {
   "cell_type": "code",
   "execution_count": 33,
   "id": "98720d0c-531a-4896-b36d-6d927d311d50",
   "metadata": {},
   "outputs": [
    {
     "data": {
      "text/html": [
       "<div>\n",
       "<style scoped>\n",
       "    .dataframe tbody tr th:only-of-type {\n",
       "        vertical-align: middle;\n",
       "    }\n",
       "\n",
       "    .dataframe tbody tr th {\n",
       "        vertical-align: top;\n",
       "    }\n",
       "\n",
       "    .dataframe thead th {\n",
       "        text-align: right;\n",
       "    }\n",
       "</style>\n",
       "<table border=\"1\" class=\"dataframe\">\n",
       "  <thead>\n",
       "    <tr style=\"text-align: right;\">\n",
       "      <th></th>\n",
       "      <th>result</th>\n",
       "    </tr>\n",
       "  </thead>\n",
       "  <tbody>\n",
       "    <tr>\n",
       "      <th>0</th>\n",
       "      <td>0</td>\n",
       "    </tr>\n",
       "    <tr>\n",
       "      <th>1</th>\n",
       "      <td>0</td>\n",
       "    </tr>\n",
       "    <tr>\n",
       "      <th>2</th>\n",
       "      <td>0</td>\n",
       "    </tr>\n",
       "    <tr>\n",
       "      <th>3</th>\n",
       "      <td>1</td>\n",
       "    </tr>\n",
       "    <tr>\n",
       "      <th>4</th>\n",
       "      <td>0</td>\n",
       "    </tr>\n",
       "  </tbody>\n",
       "</table>\n",
       "</div>"
      ],
      "text/plain": [
       "   result\n",
       "0       0\n",
       "1       0\n",
       "2       0\n",
       "3       1\n",
       "4       0"
      ]
     },
     "execution_count": 33,
     "metadata": {},
     "output_type": "execute_result"
    }
   ],
   "source": [
    "y.head()"
   ]
  },
  {
   "cell_type": "code",
   "execution_count": 34,
   "id": "09e83f53-140c-488d-a4db-efe5b759f7da",
   "metadata": {},
   "outputs": [
    {
     "name": "stdout",
     "output_type": "stream",
     "text": [
      "(42251, 1, 6)\n",
      "(11737, 1, 6)\n",
      "(4695, 1, 6)\n"
     ]
    }
   ],
   "source": [
    "# Mengubah bentuk X\n",
    "X_train = np.reshape(X_train, (X_train.shape[0], 1, X_train.shape[1]))\n",
    "X_val = np.reshape(X_val, (X_val.shape[0], 1, X_val.shape[1]))\n",
    "X_test = np.reshape(X_test, (X_test.shape[0], 1, X_test.shape[1]))\n",
    "\n",
    "print(X_train.shape)  \n",
    "print(X_val.shape)\n",
    "print(X_test.shape)\n",
    "\n",
    "y_train=y_train.values\n",
    "y_val=y_val.values\n",
    "y_test=y_test.values"
   ]
  },
  {
   "cell_type": "markdown",
   "id": "a5118f49-94e2-4d8d-a8cb-3bb6d058e0d8",
   "metadata": {},
   "source": [
    "## - MODELING & RESULT"
   ]
  },
  {
   "cell_type": "markdown",
   "id": "51e6bafb-ee30-4880-9e38-67b1f42c4fbd",
   "metadata": {},
   "source": [
    "### Model"
   ]
  },
  {
   "cell_type": "code",
   "execution_count": 35,
   "id": "015b1fe9-33dd-4525-b3ad-6fd8287599d1",
   "metadata": {},
   "outputs": [
    {
     "name": "stdout",
     "output_type": "stream",
     "text": [
      "Model: \"sequential\"\n",
      "_________________________________________________________________\n",
      " Layer (type)                Output Shape              Param #   \n",
      "=================================================================\n",
      " gru (GRU)                   (None, 1, 64)             13824     \n",
      "                                                                 \n",
      " gru_1 (GRU)                 (None, 32)                9408      \n",
      "                                                                 \n",
      " dense (Dense)               (None, 2)                 66        \n",
      "                                                                 \n",
      "=================================================================\n",
      "Total params: 23,298\n",
      "Trainable params: 23,298\n",
      "Non-trainable params: 0\n",
      "_________________________________________________________________\n"
     ]
    }
   ],
   "source": [
    "# Membuat model GRU\n",
    "model_gempa = Sequential()\n",
    "model_gempa.add(GRU(64, \n",
    "                    input_shape=(1,6),\n",
    "                    return_sequences=True,\n",
    "                    activation='tanh'))\n",
    "model_gempa.add(GRU(32,\n",
    "                    activation='tanh'))\n",
    "model_gempa.add(Dense(2, activation='softmax'))\n",
    "model_gempa.summary()"
   ]
  },
  {
   "cell_type": "code",
   "execution_count": 36,
   "id": "73a37ce9-a21f-4719-8851-8dc648981f33",
   "metadata": {},
   "outputs": [
    {
     "name": "stdout",
     "output_type": "stream",
     "text": [
      "Epoch 1/100\n",
      "661/661 [==============================] - 15s 14ms/step - loss: 0.4429 - accuracy: 0.7992 - val_loss: 0.3588 - val_accuracy: 0.8842\n",
      "Epoch 2/100\n",
      "661/661 [==============================] - 9s 13ms/step - loss: 0.2806 - accuracy: 0.9018 - val_loss: 0.1863 - val_accuracy: 0.9558\n",
      "Epoch 3/100\n",
      "661/661 [==============================] - 9s 13ms/step - loss: 0.1379 - accuracy: 0.9629 - val_loss: 0.1060 - val_accuracy: 0.9718\n",
      "Epoch 4/100\n",
      "661/661 [==============================] - 8s 12ms/step - loss: 0.0934 - accuracy: 0.9739 - val_loss: 0.0786 - val_accuracy: 0.9820\n",
      "Epoch 5/100\n",
      "661/661 [==============================] - 8s 13ms/step - loss: 0.0728 - accuracy: 0.9794 - val_loss: 0.0673 - val_accuracy: 0.9774\n",
      "Epoch 6/100\n",
      "661/661 [==============================] - 8s 13ms/step - loss: 0.0589 - accuracy: 0.9837 - val_loss: 0.0546 - val_accuracy: 0.9864\n",
      "Epoch 7/100\n",
      "661/661 [==============================] - 8s 13ms/step - loss: 0.0510 - accuracy: 0.9861 - val_loss: 0.0475 - val_accuracy: 0.9859\n",
      "Epoch 8/100\n",
      "661/661 [==============================] - 8s 12ms/step - loss: 0.0446 - accuracy: 0.9879 - val_loss: 0.0433 - val_accuracy: 0.9864\n",
      "Epoch 9/100\n",
      "661/661 [==============================] - 8s 13ms/step - loss: 0.0391 - accuracy: 0.9893 - val_loss: 0.0352 - val_accuracy: 0.9892\n",
      "Epoch 10/100\n",
      "661/661 [==============================] - 8s 13ms/step - loss: 0.0339 - accuracy: 0.9915 - val_loss: 0.0294 - val_accuracy: 0.9927\n",
      "Epoch 11/100\n",
      "661/661 [==============================] - 8s 13ms/step - loss: 0.0311 - accuracy: 0.9921 - val_loss: 0.0275 - val_accuracy: 0.9916\n",
      "Epoch 12/100\n",
      "661/661 [==============================] - 8s 13ms/step - loss: 0.0282 - accuracy: 0.9929 - val_loss: 0.0222 - val_accuracy: 0.9938\n",
      "Epoch 13/100\n",
      "661/661 [==============================] - 9s 13ms/step - loss: 0.0260 - accuracy: 0.9939 - val_loss: 0.0208 - val_accuracy: 0.9948\n",
      "Epoch 14/100\n",
      "661/661 [==============================] - 9s 13ms/step - loss: 0.0243 - accuracy: 0.9944 - val_loss: 0.0287 - val_accuracy: 0.9956\n",
      "Epoch 15/100\n",
      "661/661 [==============================] - 9s 13ms/step - loss: 0.0231 - accuracy: 0.9945 - val_loss: 0.0165 - val_accuracy: 0.9954\n",
      "Epoch 16/100\n",
      "661/661 [==============================] - 8s 13ms/step - loss: 0.0208 - accuracy: 0.9951 - val_loss: 0.0146 - val_accuracy: 0.9959\n",
      "Epoch 17/100\n",
      "661/661 [==============================] - 9s 13ms/step - loss: 0.0200 - accuracy: 0.9956 - val_loss: 0.0214 - val_accuracy: 0.9938\n",
      "Epoch 18/100\n",
      "661/661 [==============================] - 9s 13ms/step - loss: 0.0188 - accuracy: 0.9956 - val_loss: 0.0189 - val_accuracy: 0.9945\n",
      "Epoch 19/100\n",
      "661/661 [==============================] - 9s 13ms/step - loss: 0.0176 - accuracy: 0.9960 - val_loss: 0.0114 - val_accuracy: 0.9973\n",
      "Epoch 20/100\n",
      "661/661 [==============================] - 9s 13ms/step - loss: 0.0169 - accuracy: 0.9963 - val_loss: 0.0104 - val_accuracy: 0.9973\n",
      "Epoch 21/100\n",
      "661/661 [==============================] - 9s 13ms/step - loss: 0.0159 - accuracy: 0.9964 - val_loss: 0.0109 - val_accuracy: 0.9967\n",
      "Epoch 22/100\n",
      "661/661 [==============================] - 9s 13ms/step - loss: 0.0148 - accuracy: 0.9966 - val_loss: 0.0199 - val_accuracy: 0.9972\n",
      "Epoch 23/100\n",
      "661/661 [==============================] - 9s 13ms/step - loss: 0.0144 - accuracy: 0.9970 - val_loss: 0.0085 - val_accuracy: 0.9979\n",
      "Epoch 24/100\n",
      "661/661 [==============================] - 9s 13ms/step - loss: 0.0147 - accuracy: 0.9968 - val_loss: 0.0170 - val_accuracy: 0.9984\n",
      "Epoch 25/100\n",
      "661/661 [==============================] - 8s 13ms/step - loss: 0.0134 - accuracy: 0.9971 - val_loss: 0.0069 - val_accuracy: 0.9980\n",
      "Epoch 26/100\n",
      "661/661 [==============================] - 9s 13ms/step - loss: 0.0134 - accuracy: 0.9973 - val_loss: 0.0087 - val_accuracy: 0.9981\n",
      "Epoch 27/100\n",
      "661/661 [==============================] - 8s 12ms/step - loss: 0.0127 - accuracy: 0.9974 - val_loss: 0.0077 - val_accuracy: 0.9977\n",
      "Epoch 28/100\n",
      "661/661 [==============================] - 8s 13ms/step - loss: 0.0128 - accuracy: 0.9973 - val_loss: 0.0121 - val_accuracy: 0.9978\n",
      "Epoch 29/100\n",
      "661/661 [==============================] - 8s 13ms/step - loss: 0.0118 - accuracy: 0.9976 - val_loss: 0.0080 - val_accuracy: 0.9974\n",
      "Epoch 30/100\n",
      "661/661 [==============================] - 8s 13ms/step - loss: 0.0115 - accuracy: 0.9976 - val_loss: 0.0079 - val_accuracy: 0.9977\n",
      "Epoch 31/100\n",
      "661/661 [==============================] - 10s 14ms/step - loss: 0.0111 - accuracy: 0.9975 - val_loss: 0.0085 - val_accuracy: 0.9985\n",
      "Epoch 32/100\n",
      "661/661 [==============================] - 10s 16ms/step - loss: 0.0117 - accuracy: 0.9974 - val_loss: 0.0052 - val_accuracy: 0.9986\n",
      "Epoch 33/100\n",
      "661/661 [==============================] - 9s 14ms/step - loss: 0.0104 - accuracy: 0.9978 - val_loss: 0.0132 - val_accuracy: 0.9971\n",
      "Epoch 34/100\n",
      "661/661 [==============================] - 9s 14ms/step - loss: 0.0102 - accuracy: 0.9980 - val_loss: 0.0073 - val_accuracy: 0.9978\n",
      "Epoch 35/100\n",
      "661/661 [==============================] - 9s 13ms/step - loss: 0.0108 - accuracy: 0.9978 - val_loss: 0.0115 - val_accuracy: 0.9984\n",
      "Epoch 36/100\n",
      "661/661 [==============================] - 9s 13ms/step - loss: 0.0105 - accuracy: 0.9978 - val_loss: 0.0086 - val_accuracy: 0.9979\n",
      "Epoch 37/100\n",
      "661/661 [==============================] - 9s 13ms/step - loss: 0.0101 - accuracy: 0.9977 - val_loss: 0.0057 - val_accuracy: 0.9985\n",
      "Epoch 38/100\n",
      "661/661 [==============================] - 9s 13ms/step - loss: 0.0094 - accuracy: 0.9981 - val_loss: 0.0078 - val_accuracy: 0.9978\n",
      "Epoch 39/100\n",
      "661/661 [==============================] - 9s 13ms/step - loss: 0.0089 - accuracy: 0.9979 - val_loss: 0.0085 - val_accuracy: 0.9979\n",
      "Epoch 40/100\n",
      "661/661 [==============================] - 9s 13ms/step - loss: 0.0094 - accuracy: 0.9980 - val_loss: 0.0060 - val_accuracy: 0.9986\n",
      "Epoch 41/100\n",
      "661/661 [==============================] - 10s 14ms/step - loss: 0.0090 - accuracy: 0.9982 - val_loss: 0.0211 - val_accuracy: 0.9963\n",
      "Epoch 42/100\n",
      "661/661 [==============================] - 8s 13ms/step - loss: 0.0091 - accuracy: 0.9982 - val_loss: 0.0042 - val_accuracy: 0.9989\n",
      "Epoch 43/100\n",
      "661/661 [==============================] - 8s 12ms/step - loss: 0.0090 - accuracy: 0.9981 - val_loss: 0.0066 - val_accuracy: 0.9981\n",
      "Epoch 44/100\n",
      "661/661 [==============================] - 8s 13ms/step - loss: 0.0091 - accuracy: 0.9982 - val_loss: 0.0124 - val_accuracy: 0.9986\n",
      "Epoch 45/100\n",
      "661/661 [==============================] - 8s 13ms/step - loss: 0.0079 - accuracy: 0.9984 - val_loss: 0.0056 - val_accuracy: 0.9991\n",
      "Epoch 46/100\n",
      "661/661 [==============================] - 9s 14ms/step - loss: 0.0077 - accuracy: 0.9985 - val_loss: 0.0041 - val_accuracy: 0.9991\n",
      "Epoch 47/100\n",
      "661/661 [==============================] - 9s 13ms/step - loss: 0.0080 - accuracy: 0.9983 - val_loss: 0.0050 - val_accuracy: 0.9991\n",
      "Epoch 48/100\n",
      "661/661 [==============================] - 9s 14ms/step - loss: 0.0072 - accuracy: 0.9986 - val_loss: 0.0074 - val_accuracy: 0.9979\n",
      "Epoch 49/100\n",
      "661/661 [==============================] - 9s 13ms/step - loss: 0.0080 - accuracy: 0.9985 - val_loss: 0.0070 - val_accuracy: 0.9981\n",
      "Epoch 50/100\n",
      "661/661 [==============================] - 9s 13ms/step - loss: 0.0085 - accuracy: 0.9983 - val_loss: 0.0122 - val_accuracy: 0.9982\n",
      "Epoch 51/100\n",
      "661/661 [==============================] - 9s 14ms/step - loss: 0.0081 - accuracy: 0.9983 - val_loss: 0.0044 - val_accuracy: 0.9986\n",
      "Epoch 52/100\n",
      "661/661 [==============================] - 9s 13ms/step - loss: 0.0083 - accuracy: 0.9985 - val_loss: 0.0041 - val_accuracy: 0.9988\n",
      "Epoch 53/100\n",
      "661/661 [==============================] - 9s 14ms/step - loss: 0.0074 - accuracy: 0.9985 - val_loss: 0.0029 - val_accuracy: 0.9993\n",
      "Epoch 54/100\n",
      "661/661 [==============================] - 9s 13ms/step - loss: 0.0064 - accuracy: 0.9986 - val_loss: 0.0048 - val_accuracy: 0.9988\n",
      "Epoch 55/100\n",
      "661/661 [==============================] - 9s 14ms/step - loss: 0.0070 - accuracy: 0.9986 - val_loss: 0.0026 - val_accuracy: 0.9993\n",
      "Epoch 56/100\n",
      "661/661 [==============================] - 8s 13ms/step - loss: 0.0077 - accuracy: 0.9985 - val_loss: 0.0078 - val_accuracy: 0.9980\n",
      "Epoch 57/100\n",
      "661/661 [==============================] - 9s 13ms/step - loss: 0.0067 - accuracy: 0.9986 - val_loss: 0.0057 - val_accuracy: 0.9987\n",
      "Epoch 58/100\n",
      "661/661 [==============================] - 9s 13ms/step - loss: 0.0064 - accuracy: 0.9987 - val_loss: 0.0033 - val_accuracy: 0.9989\n",
      "Epoch 59/100\n",
      "661/661 [==============================] - 9s 13ms/step - loss: 0.0064 - accuracy: 0.9986 - val_loss: 0.0032 - val_accuracy: 0.9993\n",
      "Epoch 60/100\n",
      "661/661 [==============================] - 8s 13ms/step - loss: 0.0069 - accuracy: 0.9987 - val_loss: 0.0054 - val_accuracy: 0.9986\n",
      "Epoch 61/100\n",
      "661/661 [==============================] - 9s 13ms/step - loss: 0.0075 - accuracy: 0.9986 - val_loss: 0.0049 - val_accuracy: 0.9992\n",
      "Epoch 62/100\n",
      "661/661 [==============================] - 8s 13ms/step - loss: 0.0060 - accuracy: 0.9987 - val_loss: 0.0026 - val_accuracy: 0.9991\n",
      "Epoch 63/100\n",
      "661/661 [==============================] - 9s 13ms/step - loss: 0.0063 - accuracy: 0.9987 - val_loss: 0.0038 - val_accuracy: 0.9992\n",
      "Epoch 64/100\n",
      "661/661 [==============================] - 9s 13ms/step - loss: 0.0061 - accuracy: 0.9987 - val_loss: 0.0028 - val_accuracy: 0.9994\n",
      "Epoch 65/100\n",
      "661/661 [==============================] - 8s 13ms/step - loss: 0.0066 - accuracy: 0.9986 - val_loss: 0.0043 - val_accuracy: 0.9990\n",
      "Epoch 66/100\n",
      "661/661 [==============================] - 9s 13ms/step - loss: 0.0065 - accuracy: 0.9987 - val_loss: 0.0073 - val_accuracy: 0.9985\n",
      "Epoch 67/100\n",
      "661/661 [==============================] - 8s 13ms/step - loss: 0.0056 - accuracy: 0.9990 - val_loss: 0.0021 - val_accuracy: 0.9994\n",
      "Epoch 68/100\n",
      "661/661 [==============================] - 9s 13ms/step - loss: 0.0065 - accuracy: 0.9987 - val_loss: 0.0037 - val_accuracy: 0.9991\n",
      "Epoch 69/100\n",
      "661/661 [==============================] - 8s 13ms/step - loss: 0.0058 - accuracy: 0.9988 - val_loss: 0.0041 - val_accuracy: 0.9994\n",
      "Epoch 70/100\n",
      "661/661 [==============================] - 9s 13ms/step - loss: 0.0060 - accuracy: 0.9987 - val_loss: 0.0060 - val_accuracy: 0.9988\n",
      "Epoch 71/100\n",
      "661/661 [==============================] - 8s 13ms/step - loss: 0.0060 - accuracy: 0.9988 - val_loss: 0.0031 - val_accuracy: 0.9991\n",
      "Epoch 72/100\n",
      "661/661 [==============================] - 9s 13ms/step - loss: 0.0060 - accuracy: 0.9988 - val_loss: 0.0022 - val_accuracy: 0.9992\n",
      "Epoch 73/100\n",
      "661/661 [==============================] - 8s 13ms/step - loss: 0.0056 - accuracy: 0.9989 - val_loss: 0.0027 - val_accuracy: 0.9994\n",
      "Epoch 74/100\n",
      "661/661 [==============================] - 9s 13ms/step - loss: 0.0061 - accuracy: 0.9987 - val_loss: 0.0020 - val_accuracy: 0.9995\n",
      "Epoch 75/100\n",
      "661/661 [==============================] - 8s 13ms/step - loss: 0.0084 - accuracy: 0.9983 - val_loss: 0.0029 - val_accuracy: 0.9991\n",
      "Epoch 76/100\n",
      "661/661 [==============================] - 9s 13ms/step - loss: 0.0048 - accuracy: 0.9989 - val_loss: 0.0052 - val_accuracy: 0.9993\n",
      "Epoch 77/100\n",
      "661/661 [==============================] - 8s 13ms/step - loss: 0.0047 - accuracy: 0.9990 - val_loss: 0.0020 - val_accuracy: 0.9992\n",
      "Epoch 78/100\n",
      "661/661 [==============================] - 9s 13ms/step - loss: 0.0049 - accuracy: 0.9990 - val_loss: 0.0017 - val_accuracy: 0.9993\n",
      "Epoch 79/100\n",
      "661/661 [==============================] - 8s 13ms/step - loss: 0.0056 - accuracy: 0.9989 - val_loss: 0.0034 - val_accuracy: 0.9991\n",
      "Epoch 80/100\n",
      "661/661 [==============================] - 8s 13ms/step - loss: 0.0048 - accuracy: 0.9991 - val_loss: 0.0055 - val_accuracy: 0.9990\n",
      "Epoch 81/100\n",
      "661/661 [==============================] - 9s 13ms/step - loss: 0.0064 - accuracy: 0.9987 - val_loss: 0.0079 - val_accuracy: 0.9988\n",
      "Epoch 82/100\n",
      "661/661 [==============================] - 8s 13ms/step - loss: 0.0050 - accuracy: 0.9991 - val_loss: 0.0023 - val_accuracy: 0.9995\n",
      "Epoch 83/100\n",
      "661/661 [==============================] - 9s 13ms/step - loss: 0.0061 - accuracy: 0.9988 - val_loss: 0.0018 - val_accuracy: 0.9994\n",
      "Epoch 84/100\n",
      "661/661 [==============================] - 8s 13ms/step - loss: 0.0058 - accuracy: 0.9990 - val_loss: 0.0063 - val_accuracy: 0.9996\n",
      "Epoch 85/100\n",
      "661/661 [==============================] - 8s 13ms/step - loss: 0.0050 - accuracy: 0.9990 - val_loss: 0.0069 - val_accuracy: 0.9991\n",
      "Epoch 86/100\n",
      "661/661 [==============================] - 8s 13ms/step - loss: 0.0052 - accuracy: 0.9990 - val_loss: 0.0031 - val_accuracy: 0.9993\n",
      "Epoch 87/100\n",
      "661/661 [==============================] - 9s 13ms/step - loss: 0.0056 - accuracy: 0.9989 - val_loss: 0.0031 - val_accuracy: 0.9988\n",
      "Epoch 88/100\n",
      "661/661 [==============================] - 8s 12ms/step - loss: 0.0060 - accuracy: 0.9987 - val_loss: 0.0030 - val_accuracy: 0.9993\n",
      "Epoch 89/100\n",
      "661/661 [==============================] - 9s 13ms/step - loss: 0.0049 - accuracy: 0.9990 - val_loss: 0.0018 - val_accuracy: 0.9995\n",
      "Epoch 90/100\n",
      "661/661 [==============================] - 8s 13ms/step - loss: 0.0052 - accuracy: 0.9989 - val_loss: 0.0041 - val_accuracy: 0.9992\n",
      "Epoch 91/100\n",
      "661/661 [==============================] - 9s 13ms/step - loss: 0.0048 - accuracy: 0.9991 - val_loss: 0.0023 - val_accuracy: 0.9995\n",
      "Epoch 92/100\n",
      "661/661 [==============================] - 8s 13ms/step - loss: 0.0047 - accuracy: 0.9991 - val_loss: 0.0013 - val_accuracy: 0.9995\n",
      "Epoch 93/100\n",
      "661/661 [==============================] - 9s 14ms/step - loss: 0.0049 - accuracy: 0.9990 - val_loss: 0.0018 - val_accuracy: 0.9993\n",
      "Epoch 94/100\n",
      "661/661 [==============================] - 9s 13ms/step - loss: 0.0061 - accuracy: 0.9989 - val_loss: 0.0018 - val_accuracy: 0.9992\n",
      "Epoch 95/100\n",
      "661/661 [==============================] - 9s 14ms/step - loss: 0.0049 - accuracy: 0.9990 - val_loss: 0.0020 - val_accuracy: 0.9993\n",
      "Epoch 96/100\n",
      "661/661 [==============================] - 9s 13ms/step - loss: 0.0077 - accuracy: 0.9985 - val_loss: 0.0011 - val_accuracy: 0.9996\n",
      "Epoch 97/100\n",
      "661/661 [==============================] - 9s 13ms/step - loss: 0.0053 - accuracy: 0.9990 - val_loss: 0.0023 - val_accuracy: 0.9995\n",
      "Epoch 98/100\n",
      "661/661 [==============================] - 9s 13ms/step - loss: 0.0044 - accuracy: 0.9991 - val_loss: 0.0011 - val_accuracy: 0.9996\n",
      "Epoch 99/100\n",
      "661/661 [==============================] - 8s 13ms/step - loss: 0.0043 - accuracy: 0.9992 - val_loss: 0.0033 - val_accuracy: 0.9993\n",
      "Epoch 100/100\n",
      "661/661 [==============================] - 9s 13ms/step - loss: 0.0053 - accuracy: 0.9991 - val_loss: 0.0060 - val_accuracy: 0.9991\n"
     ]
    }
   ],
   "source": [
    "model_gempa.compile(optimizer='adam', \n",
    "                    loss='sparse_categorical_crossentropy', \n",
    "                    metrics=['accuracy'])\n",
    "\n",
    "history_gempa = model_gempa.fit(X_train, y_train,\n",
    "                                validation_data=(X_val, y_val),\n",
    "                                epochs=100, batch_size=64)"
   ]
  },
  {
   "cell_type": "code",
   "execution_count": 37,
   "id": "bbb920b7-0e94-468e-a9cc-effcd851fda2",
   "metadata": {},
   "outputs": [
    {
     "data": {
      "image/png": "[encoded data removed]",
      "text/plain": [
       "<Figure size 1200x400 with 2 Axes>"
      ]
     },
     "metadata": {},
     "output_type": "display_data"
    }
   ],
   "source": [
    "# plot loss & accuracy\n",
    "plt.figure(figsize=(12, 4))\n",
    "    \n",
    "plt.subplot(121) # row , col , index \n",
    "plt.plot(history_gempa.history['loss'])\n",
    "plt.plot(history_gempa.history['val_loss'])\n",
    "plt.ylabel('Loss')\n",
    "plt.xlabel('epoch')\n",
    "plt.legend(['Loss', 'Validation loss'], loc='upper right')\n",
    "\n",
    "plt.subplot(122) \n",
    "plt.plot(history_gempa.history['accuracy'])\n",
    "plt.plot(history_gempa.history['val_accuracy'])\n",
    "plt.ylabel('Accuracy')\n",
    "plt.xlabel('epoch')\n",
    "plt.legend(['Train accuracy', 'Validation accuracy'], loc='lower right')\n",
    "    \n",
    "plt.show()"
   ]
  },
  {
   "cell_type": "code",
   "execution_count": 38,
   "id": "e54b71cc-2724-4d89-bab8-ab17034ee021",
   "metadata": {},
   "outputs": [
    {
     "data": {
      "text/html": [
       "<div>\n",
       "<style scoped>\n",
       "    .dataframe tbody tr th:only-of-type {\n",
       "        vertical-align: middle;\n",
       "    }\n",
       "\n",
       "    .dataframe tbody tr th {\n",
       "        vertical-align: top;\n",
       "    }\n",
       "\n",
       "    .dataframe thead th {\n",
       "        text-align: right;\n",
       "    }\n",
       "</style>\n",
       "<table border=\"1\" class=\"dataframe\">\n",
       "  <thead>\n",
       "    <tr style=\"text-align: right;\">\n",
       "      <th></th>\n",
       "      <th>loss</th>\n",
       "      <th>accuracy</th>\n",
       "    </tr>\n",
       "  </thead>\n",
       "  <tbody>\n",
       "    <tr>\n",
       "      <th>train</th>\n",
       "      <td>0.00687</td>\n",
       "      <td>0.998533</td>\n",
       "    </tr>\n",
       "    <tr>\n",
       "      <th>val</th>\n",
       "      <td>0.005988</td>\n",
       "      <td>0.999063</td>\n",
       "    </tr>\n",
       "    <tr>\n",
       "      <th>test</th>\n",
       "      <td>0.006312</td>\n",
       "      <td>0.998722</td>\n",
       "    </tr>\n",
       "  </tbody>\n",
       "</table>\n",
       "</div>"
      ],
      "text/plain": [
       "           loss  accuracy\n",
       "train   0.00687  0.998533\n",
       "val    0.005988  0.999063\n",
       "test   0.006312  0.998722"
      ]
     },
     "execution_count": 38,
     "metadata": {},
     "output_type": "execute_result"
    }
   ],
   "source": [
    "# Evaluasi model\n",
    "train_scores = model_gempa.evaluate(X_train, y_train, verbose=0)\n",
    "val_scores = model_gempa.evaluate(X_val, y_val, verbose=0)\n",
    "test_scores = model_gempa.evaluate(X_test, y_test, verbose=0)\n",
    "\n",
    "# dataframe untuk evaluasi model\n",
    "df_eval = pd.DataFrame(index=['train', 'val', 'test'],\n",
    "                       columns=['loss', 'accuracy'])\n",
    "\n",
    "df_eval.loc['train', 'loss']=train_scores[0]\n",
    "df_eval.loc['train', 'accuracy']=train_scores[1]\n",
    "\n",
    "df_eval.loc['val', 'loss']=val_scores[0]\n",
    "df_eval.loc['val', 'accuracy']=val_scores[1]\n",
    "\n",
    "df_eval.loc['test', 'loss']=test_scores[0]\n",
    "df_eval.loc['test', 'accuracy']=test_scores[1]\n",
    "\n",
    "df_eval"
   ]
  },
  {
   "cell_type": "code",
   "execution_count": 39,
   "id": "29621347-a00c-4658-854a-1e0f303fadc7",
   "metadata": {},
   "outputs": [],
   "source": [
    "# save model dalam format .h5\n",
    "model_gempa.save('model/model_klasifikasi_gempa.h5')"
   ]
  },
  {
   "cell_type": "markdown",
   "id": "73a4ef33-f8dd-4561-b420-ecc312920dca",
   "metadata": {
    "tags": []
   },
   "source": [
    "### Result"
   ]
  },
  {
   "cell_type": "markdown",
   "id": "86eb6c16-32da-4907-ad6b-b3c0bd94cbc9",
   "metadata": {},
   "source": [
    "#### satu data"
   ]
  },
  {
   "cell_type": "code",
   "execution_count": 46,
   "id": "0a8c7037-c3f4-42ce-8702-09d2354a2036",
   "metadata": {},
   "outputs": [
    {
     "name": "stdout",
     "output_type": "stream",
     "text": [
      "1/1 [==============================] - 1s 676ms/step\n",
      "status pred  : 0\n",
      "status y test: [0]\n"
     ]
    }
   ],
   "source": [
    "# prediksi 1 data\n",
    "i=2\n",
    "sample_test_X=X_test[i] # ambil X\n",
    "sample_test_X=sample_test_X.reshape(sample_test_X.shape[0],1,6) # reshape X\n",
    "\n",
    "sample_test_y=y_test[i] # ambil y\n",
    "\n",
    "# predict\n",
    "pred = model_gempa.predict(sample_test_X)\n",
    "pred = np.argmax(pred)\n",
    "print('status pred  :',pred)\n",
    "print('status y test:',sample_test_y)"
   ]
  },
  {
   "cell_type": "code",
   "execution_count": 47,
   "id": "8d3f0b25-3acc-4b74-bbff-efe385e20a67",
   "metadata": {},
   "outputs": [
    {
     "data": {
      "text/html": [
       "<div>\n",
       "<style scoped>\n",
       "    .dataframe tbody tr th:only-of-type {\n",
       "        vertical-align: middle;\n",
       "    }\n",
       "\n",
       "    .dataframe tbody tr th {\n",
       "        vertical-align: top;\n",
       "    }\n",
       "\n",
       "    .dataframe thead th {\n",
       "        text-align: right;\n",
       "    }\n",
       "</style>\n",
       "<table border=\"1\" class=\"dataframe\">\n",
       "  <thead>\n",
       "    <tr style=\"text-align: right;\">\n",
       "      <th></th>\n",
       "      <th>aX_scaled</th>\n",
       "      <th>aY_scaled</th>\n",
       "      <th>aZ_scaled</th>\n",
       "      <th>gX_scaled</th>\n",
       "      <th>gY_scaled</th>\n",
       "      <th>gMZ_scaled</th>\n",
       "      <th>aX</th>\n",
       "      <th>aY</th>\n",
       "      <th>aZ</th>\n",
       "      <th>gX</th>\n",
       "      <th>gY</th>\n",
       "      <th>gMZ</th>\n",
       "      <th>status</th>\n",
       "      <th>status_pred</th>\n",
       "    </tr>\n",
       "  </thead>\n",
       "  <tbody>\n",
       "    <tr>\n",
       "      <th>0</th>\n",
       "      <td>0.4825</td>\n",
       "      <td>0.4825</td>\n",
       "      <td>0.24</td>\n",
       "      <td>0.366179</td>\n",
       "      <td>0.5008</td>\n",
       "      <td>0.50456</td>\n",
       "      <td>-0.07</td>\n",
       "      <td>-0.07</td>\n",
       "      <td>-1.04</td>\n",
       "      <td>-25.16</td>\n",
       "      <td>0.4</td>\n",
       "      <td>2.28</td>\n",
       "      <td>0</td>\n",
       "      <td>0</td>\n",
       "    </tr>\n",
       "  </tbody>\n",
       "</table>\n",
       "</div>"
      ],
      "text/plain": [
       "   aX_scaled  aY_scaled  aZ_scaled  gX_scaled  gY_scaled  gMZ_scaled    aX  \\\n",
       "0     0.4825     0.4825       0.24   0.366179     0.5008     0.50456 -0.07   \n",
       "\n",
       "     aY    aZ     gX   gY   gMZ  status  status_pred  \n",
       "0 -0.07 -1.04 -25.16  0.4  2.28       0            0  "
      ]
     },
     "execution_count": 47,
     "metadata": {},
     "output_type": "execute_result"
    }
   ],
   "source": [
    "# df X\n",
    "df_sample_test_X = pd.DataFrame(sample_test_X.reshape(1,6), columns = ['aX_scaled', 'aY_scaled', 'aZ_scaled', \n",
    "                                                                       'gX_scaled', 'gY_scaled', 'gMZ_scaled'])\n",
    "# df X inverse\n",
    "df_sample_test_X_inverse = scaler_X.inverse_transform(df_sample_test_X)\n",
    "df_sample_test_X_inverse = pd.DataFrame(df_sample_test_X_inverse,columns = ['aX', 'aY', 'aZ', 'gX', 'gY', 'gMZ'])\n",
    "\n",
    "# df y\n",
    "df_sample_test_y=pd.DataFrame(sample_test_y, columns = ['status'])\n",
    "\n",
    "# df pred\n",
    "df_pred = pd.DataFrame(np.array([pred]), columns = ['status_pred'])\n",
    "\n",
    "df_sample_test_X=df_sample_test_X.join([df_sample_test_X_inverse,df_sample_test_y,df_pred])\n",
    "df_sample_test_X"
   ]
  },
  {
   "cell_type": "markdown",
   "id": "68767266-f4d8-4093-acaf-e6d7e4404369",
   "metadata": {},
   "source": [
    "#### banyak data"
   ]
  },
  {
   "cell_type": "code",
   "execution_count": 48,
   "id": "7668086b-d06c-4663-a1ee-6e2d060a5fec",
   "metadata": {},
   "outputs": [
    {
     "name": "stdout",
     "output_type": "stream",
     "text": [
      "1/1 [==============================] - 0s 53ms/step\n",
      "status pred  : [0 1 0 1 0 1]\n",
      "status y test: [0 1 0 1 0 1]\n"
     ]
    }
   ],
   "source": [
    "# prediksi 1 data\n",
    "a=0\n",
    "b=6\n",
    "sample_test_X=X_test[a:b] # ambil X\n",
    "sample_test_X=sample_test_X.reshape(sample_test_X.shape[0],1,6) # reshape X\n",
    "\n",
    "sample_test_y=y_test[a:b] # ambil y\n",
    "\n",
    "# predict\n",
    "pred = model_gempa.predict(sample_test_X)\n",
    "pred = np.argmax(pred, axis=1)\n",
    "print('status pred  :',pred)\n",
    "print('status y test:',sample_test_y.reshape(-1))"
   ]
  },
  {
   "cell_type": "code",
   "execution_count": 49,
   "id": "cf6a21f9-d7cf-4deb-9b59-fd345f572cca",
   "metadata": {},
   "outputs": [
    {
     "data": {
      "text/html": [
       "<div>\n",
       "<style scoped>\n",
       "    .dataframe tbody tr th:only-of-type {\n",
       "        vertical-align: middle;\n",
       "    }\n",
       "\n",
       "    .dataframe tbody tr th {\n",
       "        vertical-align: top;\n",
       "    }\n",
       "\n",
       "    .dataframe thead th {\n",
       "        text-align: right;\n",
       "    }\n",
       "</style>\n",
       "<table border=\"1\" class=\"dataframe\">\n",
       "  <thead>\n",
       "    <tr style=\"text-align: right;\">\n",
       "      <th></th>\n",
       "      <th>aX_scaled</th>\n",
       "      <th>aY_scaled</th>\n",
       "      <th>aZ_scaled</th>\n",
       "      <th>gX_scaled</th>\n",
       "      <th>gY_scaled</th>\n",
       "      <th>gMZ_scaled</th>\n",
       "      <th>aX</th>\n",
       "      <th>aY</th>\n",
       "      <th>aZ</th>\n",
       "      <th>gX</th>\n",
       "      <th>gY</th>\n",
       "      <th>gMZ</th>\n",
       "      <th>status</th>\n",
       "      <th>status_pred</th>\n",
       "    </tr>\n",
       "  </thead>\n",
       "  <tbody>\n",
       "    <tr>\n",
       "      <th>0</th>\n",
       "      <td>0.4900</td>\n",
       "      <td>0.4775</td>\n",
       "      <td>0.2375</td>\n",
       "      <td>0.320060</td>\n",
       "      <td>0.50110</td>\n",
       "      <td>0.50418</td>\n",
       "      <td>-0.04</td>\n",
       "      <td>-0.09</td>\n",
       "      <td>-1.05</td>\n",
       "      <td>-26.99</td>\n",
       "      <td>0.55</td>\n",
       "      <td>2.09</td>\n",
       "      <td>0</td>\n",
       "      <td>0</td>\n",
       "    </tr>\n",
       "    <tr>\n",
       "      <th>1</th>\n",
       "      <td>0.3475</td>\n",
       "      <td>0.3150</td>\n",
       "      <td>0.8550</td>\n",
       "      <td>0.267641</td>\n",
       "      <td>0.58200</td>\n",
       "      <td>0.45520</td>\n",
       "      <td>-0.61</td>\n",
       "      <td>-0.74</td>\n",
       "      <td>1.42</td>\n",
       "      <td>-29.07</td>\n",
       "      <td>41.00</td>\n",
       "      <td>-22.40</td>\n",
       "      <td>1</td>\n",
       "      <td>1</td>\n",
       "    </tr>\n",
       "    <tr>\n",
       "      <th>2</th>\n",
       "      <td>0.4825</td>\n",
       "      <td>0.4825</td>\n",
       "      <td>0.2400</td>\n",
       "      <td>0.366179</td>\n",
       "      <td>0.50080</td>\n",
       "      <td>0.50456</td>\n",
       "      <td>-0.07</td>\n",
       "      <td>-0.07</td>\n",
       "      <td>-1.04</td>\n",
       "      <td>-25.16</td>\n",
       "      <td>0.40</td>\n",
       "      <td>2.28</td>\n",
       "      <td>0</td>\n",
       "      <td>0</td>\n",
       "    </tr>\n",
       "    <tr>\n",
       "      <th>3</th>\n",
       "      <td>0.4800</td>\n",
       "      <td>0.3750</td>\n",
       "      <td>0.0000</td>\n",
       "      <td>0.242944</td>\n",
       "      <td>0.49478</td>\n",
       "      <td>0.51164</td>\n",
       "      <td>-0.08</td>\n",
       "      <td>-0.50</td>\n",
       "      <td>-2.00</td>\n",
       "      <td>-30.05</td>\n",
       "      <td>-2.61</td>\n",
       "      <td>5.82</td>\n",
       "      <td>1</td>\n",
       "      <td>1</td>\n",
       "    </tr>\n",
       "    <tr>\n",
       "      <th>4</th>\n",
       "      <td>0.4900</td>\n",
       "      <td>0.4800</td>\n",
       "      <td>0.2375</td>\n",
       "      <td>0.366179</td>\n",
       "      <td>0.50084</td>\n",
       "      <td>0.50456</td>\n",
       "      <td>-0.04</td>\n",
       "      <td>-0.08</td>\n",
       "      <td>-1.05</td>\n",
       "      <td>-25.16</td>\n",
       "      <td>0.42</td>\n",
       "      <td>2.28</td>\n",
       "      <td>0</td>\n",
       "      <td>0</td>\n",
       "    </tr>\n",
       "    <tr>\n",
       "      <th>5</th>\n",
       "      <td>0.3825</td>\n",
       "      <td>0.5800</td>\n",
       "      <td>0.1525</td>\n",
       "      <td>0.252268</td>\n",
       "      <td>0.47856</td>\n",
       "      <td>0.50358</td>\n",
       "      <td>-0.47</td>\n",
       "      <td>0.32</td>\n",
       "      <td>-1.39</td>\n",
       "      <td>-29.68</td>\n",
       "      <td>-10.72</td>\n",
       "      <td>1.79</td>\n",
       "      <td>1</td>\n",
       "      <td>1</td>\n",
       "    </tr>\n",
       "  </tbody>\n",
       "</table>\n",
       "</div>"
      ],
      "text/plain": [
       "   aX_scaled  aY_scaled  aZ_scaled  gX_scaled  gY_scaled  gMZ_scaled    aX  \\\n",
       "0     0.4900     0.4775     0.2375   0.320060    0.50110     0.50418 -0.04   \n",
       "1     0.3475     0.3150     0.8550   0.267641    0.58200     0.45520 -0.61   \n",
       "2     0.4825     0.4825     0.2400   0.366179    0.50080     0.50456 -0.07   \n",
       "3     0.4800     0.3750     0.0000   0.242944    0.49478     0.51164 -0.08   \n",
       "4     0.4900     0.4800     0.2375   0.366179    0.50084     0.50456 -0.04   \n",
       "5     0.3825     0.5800     0.1525   0.252268    0.47856     0.50358 -0.47   \n",
       "\n",
       "     aY    aZ     gX     gY    gMZ  status  status_pred  \n",
       "0 -0.09 -1.05 -26.99   0.55   2.09       0            0  \n",
       "1 -0.74  1.42 -29.07  41.00 -22.40       1            1  \n",
       "2 -0.07 -1.04 -25.16   0.40   2.28       0            0  \n",
       "3 -0.50 -2.00 -30.05  -2.61   5.82       1            1  \n",
       "4 -0.08 -1.05 -25.16   0.42   2.28       0            0  \n",
       "5  0.32 -1.39 -29.68 -10.72   1.79       1            1  "
      ]
     },
     "execution_count": 49,
     "metadata": {},
     "output_type": "execute_result"
    }
   ],
   "source": [
    "# df X\n",
    "df_sample_test_X = pd.DataFrame(sample_test_X.reshape(sample_test_X.shape[0],6), \n",
    "                                columns = ['aX_scaled', 'aY_scaled', 'aZ_scaled', \n",
    "                                           'gX_scaled', 'gY_scaled', 'gMZ_scaled'])\n",
    "# df X inverse\n",
    "df_sample_test_X_inverse = scaler_X.inverse_transform(df_sample_test_X)\n",
    "df_sample_test_X_inverse = pd.DataFrame(df_sample_test_X_inverse,\n",
    "                                        columns = ['aX', 'aY', 'aZ', 'gX', 'gY', 'gMZ'])\n",
    "\n",
    "# df y\n",
    "df_sample_test_y=pd.DataFrame(sample_test_y, \n",
    "                              columns = ['status'])\n",
    "\n",
    "# df pred\n",
    "df_pred = pd.DataFrame(np.array([pred]).reshape(sample_test_X.shape[0],1), \n",
    "                       columns = ['status_pred'])\n",
    "\n",
    "df_sample_test_X=df_sample_test_X.join([df_sample_test_X_inverse,df_sample_test_y,df_pred])\n",
    "df_sample_test_X"
   ]
  },
  {
   "cell_type": "markdown",
   "id": "69751cde-a90a-4ad8-9d34-cf9c57c61a17",
   "metadata": {},
   "source": [
    "---"
   ]
  },
  {
   "cell_type": "markdown",
   "id": "c99c9e34-da26-41dc-ad7a-40deb0cc19a2",
   "metadata": {},
   "source": [
    "# 2. SIMULASI KLASIFIKASI GEMPA"
   ]
  },
  {
   "cell_type": "code",
   "execution_count": 50,
   "id": "8b6b2635-f000-4248-bfd4-5872768f7a42",
   "metadata": {},
   "outputs": [],
   "source": [
    "# import libraries\n",
    "import pandas as pd\n",
    "import numpy as np\n",
    "import joblib\n",
    "from keras.models import load_model"
   ]
  },
  {
   "cell_type": "code",
   "execution_count": 51,
   "id": "58d729f9-9efb-4926-97f5-4afc079797d6",
   "metadata": {},
   "outputs": [],
   "source": [
    "# load scaler & model\n",
    "scaler_X_gempa = joblib.load('scaler/scaler_X_klasifikasi_gempa.save')\n",
    "model_klasifikasi_gempa = load_model('model/model_klasifikasi_gempa.h5')\n",
    "\n",
    "df_simulasi=pd.read_csv('dataset/data_simulasi_gempa.csv')"
   ]
  },
  {
   "cell_type": "code",
   "execution_count": 52,
   "id": "fadd446c-661e-4513-9c04-52d0103d1ca5",
   "metadata": {
    "tags": []
   },
   "outputs": [
    {
     "data": {
      "text/html": [
       "<div>\n",
       "<style scoped>\n",
       "    .dataframe tbody tr th:only-of-type {\n",
       "        vertical-align: middle;\n",
       "    }\n",
       "\n",
       "    .dataframe tbody tr th {\n",
       "        vertical-align: top;\n",
       "    }\n",
       "\n",
       "    .dataframe thead th {\n",
       "        text-align: right;\n",
       "    }\n",
       "</style>\n",
       "<table border=\"1\" class=\"dataframe\">\n",
       "  <thead>\n",
       "    <tr style=\"text-align: right;\">\n",
       "      <th></th>\n",
       "      <th>aX</th>\n",
       "      <th>aY</th>\n",
       "      <th>aZ</th>\n",
       "      <th>gX</th>\n",
       "      <th>gY</th>\n",
       "      <th>gZ</th>\n",
       "      <th>result</th>\n",
       "    </tr>\n",
       "  </thead>\n",
       "  <tbody>\n",
       "    <tr>\n",
       "      <th>0</th>\n",
       "      <td>-0.09</td>\n",
       "      <td>1.23</td>\n",
       "      <td>-2.00</td>\n",
       "      <td>-29.19</td>\n",
       "      <td>-120.73</td>\n",
       "      <td>19.60</td>\n",
       "      <td>1</td>\n",
       "    </tr>\n",
       "    <tr>\n",
       "      <th>1</th>\n",
       "      <td>-0.04</td>\n",
       "      <td>-0.09</td>\n",
       "      <td>-1.05</td>\n",
       "      <td>-26.63</td>\n",
       "      <td>0.46</td>\n",
       "      <td>2.06</td>\n",
       "      <td>0</td>\n",
       "    </tr>\n",
       "    <tr>\n",
       "      <th>2</th>\n",
       "      <td>-0.67</td>\n",
       "      <td>-0.02</td>\n",
       "      <td>-2.00</td>\n",
       "      <td>-28.58</td>\n",
       "      <td>-30.82</td>\n",
       "      <td>8.13</td>\n",
       "      <td>1</td>\n",
       "    </tr>\n",
       "    <tr>\n",
       "      <th>3</th>\n",
       "      <td>-0.04</td>\n",
       "      <td>-0.09</td>\n",
       "      <td>-1.06</td>\n",
       "      <td>-26.99</td>\n",
       "      <td>0.51</td>\n",
       "      <td>2.05</td>\n",
       "      <td>0</td>\n",
       "    </tr>\n",
       "    <tr>\n",
       "      <th>4</th>\n",
       "      <td>-1.47</td>\n",
       "      <td>-0.65</td>\n",
       "      <td>-0.29</td>\n",
       "      <td>-26.26</td>\n",
       "      <td>28.15</td>\n",
       "      <td>-103.79</td>\n",
       "      <td>1</td>\n",
       "    </tr>\n",
       "  </tbody>\n",
       "</table>\n",
       "</div>"
      ],
      "text/plain": [
       "     aX    aY    aZ     gX      gY      gZ  result\n",
       "0 -0.09  1.23 -2.00 -29.19 -120.73   19.60       1\n",
       "1 -0.04 -0.09 -1.05 -26.63    0.46    2.06       0\n",
       "2 -0.67 -0.02 -2.00 -28.58  -30.82    8.13       1\n",
       "3 -0.04 -0.09 -1.06 -26.99    0.51    2.05       0\n",
       "4 -1.47 -0.65 -0.29 -26.26   28.15 -103.79       1"
      ]
     },
     "execution_count": 52,
     "metadata": {},
     "output_type": "execute_result"
    }
   ],
   "source": [
    "df_simulasi.head()"
   ]
  },
  {
   "cell_type": "code",
   "execution_count": 53,
   "id": "ed4b0fe8-9067-45bf-b0a3-ec67d00b89b1",
   "metadata": {},
   "outputs": [],
   "source": [
    "def klasifikasi_gempa(X, scaler_X, model):\n",
    "    X=X.iloc[:,:6]\n",
    "    X_scaled = scaler_X_gempa.transform(X)\n",
    "    X_scaled=X_scaled.reshape(1,1,6)\n",
    "    # predict\n",
    "    y_pred = model_klasifikasi_gempa.predict(X_scaled, verbose=0)\n",
    "    y_pred = np.argmax(y_pred, axis=1)\n",
    "    # df\n",
    "    df_y_pred = pd.DataFrame(y_pred, columns=['status_pred'])\n",
    "    df_klasifikasi = X_gempa.join(df_y_pred)\n",
    "    return df_klasifikasi\n",
    "\n",
    "def get_info_gempa(data):\n",
    "    display(data)\n",
    "    status_pred = data['status_pred'][0]\n",
    "    if status_pred == 1:\n",
    "        print(\"Status: Gempa\")\n",
    "    else:\n",
    "        print(\"Status: Bukan Gempa\")\n"
   ]
  },
  {
   "cell_type": "markdown",
   "id": "06fabd49-fc9b-445a-8e2d-d362e51c60b0",
   "metadata": {
    "tags": []
   },
   "source": [
    "## Gempa"
   ]
  },
  {
   "cell_type": "code",
   "execution_count": 54,
   "id": "7221d899-6e86-4e72-83fb-33b2924c0173",
   "metadata": {},
   "outputs": [
    {
     "data": {
      "text/html": [
       "<div>\n",
       "<style scoped>\n",
       "    .dataframe tbody tr th:only-of-type {\n",
       "        vertical-align: middle;\n",
       "    }\n",
       "\n",
       "    .dataframe tbody tr th {\n",
       "        vertical-align: top;\n",
       "    }\n",
       "\n",
       "    .dataframe thead th {\n",
       "        text-align: right;\n",
       "    }\n",
       "</style>\n",
       "<table border=\"1\" class=\"dataframe\">\n",
       "  <thead>\n",
       "    <tr style=\"text-align: right;\">\n",
       "      <th></th>\n",
       "      <th>aX</th>\n",
       "      <th>aY</th>\n",
       "      <th>aZ</th>\n",
       "      <th>gX</th>\n",
       "      <th>gY</th>\n",
       "      <th>gZ</th>\n",
       "      <th>result</th>\n",
       "      <th>status_pred</th>\n",
       "    </tr>\n",
       "  </thead>\n",
       "  <tbody>\n",
       "    <tr>\n",
       "      <th>0</th>\n",
       "      <td>0.02</td>\n",
       "      <td>-0.63</td>\n",
       "      <td>-1.09</td>\n",
       "      <td>-28.46</td>\n",
       "      <td>4.7</td>\n",
       "      <td>8.31</td>\n",
       "      <td>1</td>\n",
       "      <td>1</td>\n",
       "    </tr>\n",
       "  </tbody>\n",
       "</table>\n",
       "</div>"
      ],
      "text/plain": [
       "     aX    aY    aZ     gX   gY    gZ  result  status_pred\n",
       "0  0.02 -0.63 -1.09 -28.46  4.7  8.31       1            1"
      ]
     },
     "metadata": {},
     "output_type": "display_data"
    },
    {
     "name": "stdout",
     "output_type": "stream",
     "text": [
      "Status: Gempa\n"
     ]
    }
   ],
   "source": [
    "X_gempa = df_simulasi.sample(1).reset_index(drop=True)\n",
    "\n",
    "y_pred_gempa = klasifikasi_gempa(X=X_gempa, \n",
    "                                 scaler_X=scaler_X_gempa, \n",
    "                                 model=model_klasifikasi_gempa)\n",
    "get_info_gempa(data=y_pred_gempa)"
   ]
  },
  {
   "cell_type": "markdown",
   "id": "6f019a68-744b-47a8-a753-91b95b8ee9a2",
   "metadata": {},
   "source": [
    "## Bukan gempa"
   ]
  },
  {
   "cell_type": "code",
   "execution_count": 56,
   "id": "e12567de-98f8-4bf1-9c3f-e03ca8f09493",
   "metadata": {},
   "outputs": [
    {
     "data": {
      "text/html": [
       "<div>\n",
       "<style scoped>\n",
       "    .dataframe tbody tr th:only-of-type {\n",
       "        vertical-align: middle;\n",
       "    }\n",
       "\n",
       "    .dataframe tbody tr th {\n",
       "        vertical-align: top;\n",
       "    }\n",
       "\n",
       "    .dataframe thead th {\n",
       "        text-align: right;\n",
       "    }\n",
       "</style>\n",
       "<table border=\"1\" class=\"dataframe\">\n",
       "  <thead>\n",
       "    <tr style=\"text-align: right;\">\n",
       "      <th></th>\n",
       "      <th>aX</th>\n",
       "      <th>aY</th>\n",
       "      <th>aZ</th>\n",
       "      <th>gX</th>\n",
       "      <th>gY</th>\n",
       "      <th>gZ</th>\n",
       "      <th>result</th>\n",
       "      <th>status_pred</th>\n",
       "    </tr>\n",
       "  </thead>\n",
       "  <tbody>\n",
       "    <tr>\n",
       "      <th>0</th>\n",
       "      <td>-0.04</td>\n",
       "      <td>-0.09</td>\n",
       "      <td>-1.06</td>\n",
       "      <td>-26.99</td>\n",
       "      <td>0.37</td>\n",
       "      <td>2.22</td>\n",
       "      <td>0</td>\n",
       "      <td>0</td>\n",
       "    </tr>\n",
       "  </tbody>\n",
       "</table>\n",
       "</div>"
      ],
      "text/plain": [
       "     aX    aY    aZ     gX    gY    gZ  result  status_pred\n",
       "0 -0.04 -0.09 -1.06 -26.99  0.37  2.22       0            0"
      ]
     },
     "metadata": {},
     "output_type": "display_data"
    },
    {
     "name": "stdout",
     "output_type": "stream",
     "text": [
      "Status: Bukan Gempa\n"
     ]
    }
   ],
   "source": [
    "X_gempa = df_simulasi.sample(1).reset_index(drop=True)\n",
    "\n",
    "y_pred_gempa = klasifikasi_gempa(X=X_gempa, \n",
    "                                 scaler_X=scaler_X_gempa, \n",
    "                                 model=model_klasifikasi_gempa)\n",
    "get_info_gempa(data=y_pred_gempa)"
   ]
  },
  {
   "cell_type": "markdown",
   "id": "99b69975-4ce2-4b08-bb72-30eb9671faef",
   "metadata": {},
   "source": [
    "---"
   ]
  }
 ],
 "metadata": {
  "kernelspec": {
   "display_name": "Python 3 (ipykernel)",
   "language": "python",
   "name": "python3"
  },
  "language_info": {
   "codemirror_mode": {
    "name": "ipython",
    "version": 3
   },
   "file_extension": ".py",
   "mimetype": "text/x-python",
   "name": "python",
   "nbconvert_exporter": "python",
   "pygments_lexer": "ipython3",
   "version": "3.9.16"
  }
 },
 "nbformat": 4,
 "nbformat_minor": 5
}
